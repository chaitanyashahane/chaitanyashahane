{
 "cells": [
  {
   "cell_type": "code",
   "execution_count": 398,
   "id": "split-secret",
   "metadata": {},
   "outputs": [],
   "source": [
    "from tkinter import *"
   ]
  },
  {
   "cell_type": "code",
   "execution_count": 399,
   "id": "widespread-brave",
   "metadata": {},
   "outputs": [],
   "source": [
    "import numpy as np # linear algebra\n",
    "import pandas as pd # data processing, CSV file I/O (e.g. pd.read_csv)\n",
    "import matplotlib.pyplot as plt       # matplotlib.pyplot plots data\n",
    "%matplotlib inline \n",
    "import seaborn as sns\n",
    "import random\n",
    "import string"
   ]
  },
  {
   "cell_type": "code",
   "execution_count": 400,
   "id": "found-combining",
   "metadata": {},
   "outputs": [],
   "source": [
    "import mysql.connector\n",
    "\n",
    "cnx = mysql.connector.connect(user='root', password='asdqwe123',\n",
    "                              host='localhost',\n",
    "                              database='Telecome')\n",
    "cursor = cnx.cursor()\n",
    "\n",
    "cursor.execute('select * from telecome_churn')\n",
    "table_rows = cursor.fetchall()\n",
    "\n",
    "df = pd.DataFrame(table_rows)\n"
   ]
  },
  {
   "cell_type": "code",
   "execution_count": 401,
   "id": "rubber-government",
   "metadata": {},
   "outputs": [
    {
     "data": {
      "text/html": [
       "<div>\n",
       "<style scoped>\n",
       "    .dataframe tbody tr th:only-of-type {\n",
       "        vertical-align: middle;\n",
       "    }\n",
       "\n",
       "    .dataframe tbody tr th {\n",
       "        vertical-align: top;\n",
       "    }\n",
       "\n",
       "    .dataframe thead th {\n",
       "        text-align: right;\n",
       "    }\n",
       "</style>\n",
       "<table border=\"1\" class=\"dataframe\">\n",
       "  <thead>\n",
       "    <tr style=\"text-align: right;\">\n",
       "      <th></th>\n",
       "      <th>0</th>\n",
       "      <th>1</th>\n",
       "      <th>2</th>\n",
       "      <th>3</th>\n",
       "      <th>4</th>\n",
       "      <th>5</th>\n",
       "      <th>6</th>\n",
       "      <th>7</th>\n",
       "      <th>8</th>\n",
       "      <th>9</th>\n",
       "      <th>...</th>\n",
       "      <th>11</th>\n",
       "      <th>12</th>\n",
       "      <th>13</th>\n",
       "      <th>14</th>\n",
       "      <th>15</th>\n",
       "      <th>16</th>\n",
       "      <th>17</th>\n",
       "      <th>18</th>\n",
       "      <th>19</th>\n",
       "      <th>20</th>\n",
       "    </tr>\n",
       "  </thead>\n",
       "  <tbody>\n",
       "    <tr>\n",
       "      <th>0</th>\n",
       "      <td>7590-VHVEG</td>\n",
       "      <td>Female</td>\n",
       "      <td>0</td>\n",
       "      <td>Yes</td>\n",
       "      <td>No</td>\n",
       "      <td>1</td>\n",
       "      <td>No</td>\n",
       "      <td>No phone service</td>\n",
       "      <td>DSL</td>\n",
       "      <td>No</td>\n",
       "      <td>...</td>\n",
       "      <td>No</td>\n",
       "      <td>No</td>\n",
       "      <td>No</td>\n",
       "      <td>No</td>\n",
       "      <td>Month-to-month</td>\n",
       "      <td>Yes</td>\n",
       "      <td>Electronic check</td>\n",
       "      <td>30</td>\n",
       "      <td>29.85</td>\n",
       "      <td>No</td>\n",
       "    </tr>\n",
       "    <tr>\n",
       "      <th>1</th>\n",
       "      <td>5575-GNVDE</td>\n",
       "      <td>Male</td>\n",
       "      <td>0</td>\n",
       "      <td>No</td>\n",
       "      <td>No</td>\n",
       "      <td>34</td>\n",
       "      <td>Yes</td>\n",
       "      <td>No</td>\n",
       "      <td>DSL</td>\n",
       "      <td>Yes</td>\n",
       "      <td>...</td>\n",
       "      <td>Yes</td>\n",
       "      <td>No</td>\n",
       "      <td>No</td>\n",
       "      <td>No</td>\n",
       "      <td>One year</td>\n",
       "      <td>No</td>\n",
       "      <td>Mailed check</td>\n",
       "      <td>57</td>\n",
       "      <td>1889.50</td>\n",
       "      <td>No</td>\n",
       "    </tr>\n",
       "    <tr>\n",
       "      <th>2</th>\n",
       "      <td>3668-QPYBK</td>\n",
       "      <td>Male</td>\n",
       "      <td>0</td>\n",
       "      <td>No</td>\n",
       "      <td>No</td>\n",
       "      <td>2</td>\n",
       "      <td>Yes</td>\n",
       "      <td>No</td>\n",
       "      <td>DSL</td>\n",
       "      <td>Yes</td>\n",
       "      <td>...</td>\n",
       "      <td>No</td>\n",
       "      <td>No</td>\n",
       "      <td>No</td>\n",
       "      <td>No</td>\n",
       "      <td>Month-to-month</td>\n",
       "      <td>Yes</td>\n",
       "      <td>Mailed check</td>\n",
       "      <td>54</td>\n",
       "      <td>108.15</td>\n",
       "      <td>Yes</td>\n",
       "    </tr>\n",
       "    <tr>\n",
       "      <th>3</th>\n",
       "      <td>7795-CFOCW</td>\n",
       "      <td>Male</td>\n",
       "      <td>0</td>\n",
       "      <td>No</td>\n",
       "      <td>No</td>\n",
       "      <td>45</td>\n",
       "      <td>No</td>\n",
       "      <td>No phone service</td>\n",
       "      <td>DSL</td>\n",
       "      <td>Yes</td>\n",
       "      <td>...</td>\n",
       "      <td>Yes</td>\n",
       "      <td>Yes</td>\n",
       "      <td>No</td>\n",
       "      <td>No</td>\n",
       "      <td>One year</td>\n",
       "      <td>No</td>\n",
       "      <td>Bank transfer (automatic)</td>\n",
       "      <td>42</td>\n",
       "      <td>1840.75</td>\n",
       "      <td>No</td>\n",
       "    </tr>\n",
       "    <tr>\n",
       "      <th>4</th>\n",
       "      <td>9237-HQITU</td>\n",
       "      <td>Female</td>\n",
       "      <td>0</td>\n",
       "      <td>No</td>\n",
       "      <td>No</td>\n",
       "      <td>2</td>\n",
       "      <td>Yes</td>\n",
       "      <td>No</td>\n",
       "      <td>Fiber optic</td>\n",
       "      <td>No</td>\n",
       "      <td>...</td>\n",
       "      <td>No</td>\n",
       "      <td>No</td>\n",
       "      <td>No</td>\n",
       "      <td>No</td>\n",
       "      <td>Month-to-month</td>\n",
       "      <td>Yes</td>\n",
       "      <td>Electronic check</td>\n",
       "      <td>71</td>\n",
       "      <td>151.65</td>\n",
       "      <td>Yes</td>\n",
       "    </tr>\n",
       "  </tbody>\n",
       "</table>\n",
       "<p>5 rows × 21 columns</p>\n",
       "</div>"
      ],
      "text/plain": [
       "           0       1   2    3   4   5    6                 7            8   \\\n",
       "0  7590-VHVEG  Female   0  Yes  No   1   No  No phone service          DSL   \n",
       "1  5575-GNVDE    Male   0   No  No  34  Yes                No          DSL   \n",
       "2  3668-QPYBK    Male   0   No  No   2  Yes                No          DSL   \n",
       "3  7795-CFOCW    Male   0   No  No  45   No  No phone service          DSL   \n",
       "4  9237-HQITU  Female   0   No  No   2  Yes                No  Fiber optic   \n",
       "\n",
       "    9   ...   11   12  13  14              15   16                         17  \\\n",
       "0   No  ...   No   No  No  No  Month-to-month  Yes           Electronic check   \n",
       "1  Yes  ...  Yes   No  No  No        One year   No               Mailed check   \n",
       "2  Yes  ...   No   No  No  No  Month-to-month  Yes               Mailed check   \n",
       "3  Yes  ...  Yes  Yes  No  No        One year   No  Bank transfer (automatic)   \n",
       "4   No  ...   No   No  No  No  Month-to-month  Yes           Electronic check   \n",
       "\n",
       "   18       19   20  \n",
       "0  30    29.85   No  \n",
       "1  57  1889.50   No  \n",
       "2  54   108.15  Yes  \n",
       "3  42  1840.75   No  \n",
       "4  71   151.65  Yes  \n",
       "\n",
       "[5 rows x 21 columns]"
      ]
     },
     "execution_count": 401,
     "metadata": {},
     "output_type": "execute_result"
    }
   ],
   "source": [
    "df.head()"
   ]
  },
  {
   "cell_type": "code",
   "execution_count": 402,
   "id": "facial-spain",
   "metadata": {},
   "outputs": [],
   "source": [
    "df.columns = ['customerID','gender','SeniorCitizen','Partner','Dependents','tenure','PhoneService','MultipleLines','InternetService','OnlineSecurity','OnlineBackup','DeviceProtection','TechSupport','StreamingTV','StreamingMovies','Contract','PaperlessBilling','PaymentMethod','MonthlyCharges','TotalCharges','Churn']"
   ]
  },
  {
   "cell_type": "code",
   "execution_count": 403,
   "id": "bacterial-rogers",
   "metadata": {},
   "outputs": [
    {
     "name": "stdout",
     "output_type": "stream",
     "text": [
      "<class 'pandas.core.frame.DataFrame'>\n",
      "RangeIndex: 7043 entries, 0 to 7042\n",
      "Data columns (total 21 columns):\n",
      " #   Column            Non-Null Count  Dtype  \n",
      "---  ------            --------------  -----  \n",
      " 0   customerID        7043 non-null   object \n",
      " 1   gender            7043 non-null   object \n",
      " 2   SeniorCitizen     7043 non-null   int64  \n",
      " 3   Partner           7043 non-null   object \n",
      " 4   Dependents        7043 non-null   object \n",
      " 5   tenure            7043 non-null   int64  \n",
      " 6   PhoneService      7043 non-null   object \n",
      " 7   MultipleLines     7043 non-null   object \n",
      " 8   InternetService   7043 non-null   object \n",
      " 9   OnlineSecurity    7043 non-null   object \n",
      " 10  OnlineBackup      7043 non-null   object \n",
      " 11  DeviceProtection  7043 non-null   object \n",
      " 12  TechSupport       7043 non-null   object \n",
      " 13  StreamingTV       7043 non-null   object \n",
      " 14  StreamingMovies   7043 non-null   object \n",
      " 15  Contract          7043 non-null   object \n",
      " 16  PaperlessBilling  7043 non-null   object \n",
      " 17  PaymentMethod     7043 non-null   object \n",
      " 18  MonthlyCharges    7043 non-null   object \n",
      " 19  TotalCharges      7032 non-null   float64\n",
      " 20  Churn             7043 non-null   object \n",
      "dtypes: float64(1), int64(2), object(18)\n",
      "memory usage: 1.1+ MB\n"
     ]
    }
   ],
   "source": [
    "df.info()"
   ]
  },
  {
   "cell_type": "code",
   "execution_count": 404,
   "id": "primary-consumer",
   "metadata": {},
   "outputs": [
    {
     "data": {
      "text/plain": [
       "(7043, 21)"
      ]
     },
     "execution_count": 404,
     "metadata": {},
     "output_type": "execute_result"
    }
   ],
   "source": [
    "df.shape"
   ]
  },
  {
   "cell_type": "markdown",
   "id": "fuzzy-holder",
   "metadata": {},
   "source": [
    "#### To replace missing/null value which only exists in \"TotalCharges\", we need see the distribution of \"TotalCharges\" to decide we discard those values as zero or median"
   ]
  },
  {
   "cell_type": "code",
   "execution_count": 405,
   "id": "expanded-advertising",
   "metadata": {},
   "outputs": [
    {
     "data": {
      "text/plain": [
       "<bound method DataFrame.transpose of         customerID gender  SeniorCitizen Partner Dependents       tenure  \\\n",
       "count         7043   7043    7043.000000    7043       7043  7043.000000   \n",
       "unique        7043      2            NaN       2          2          NaN   \n",
       "top     8902-ZEOVF   Male            NaN      No         No          NaN   \n",
       "freq             1   3555            NaN    3641       4933          NaN   \n",
       "mean           NaN    NaN       0.162147     NaN        NaN    32.371149   \n",
       "std            NaN    NaN       0.368612     NaN        NaN    24.559481   \n",
       "min            NaN    NaN       0.000000     NaN        NaN     0.000000   \n",
       "25%            NaN    NaN       0.000000     NaN        NaN     9.000000   \n",
       "50%            NaN    NaN       0.000000     NaN        NaN    29.000000   \n",
       "75%            NaN    NaN       0.000000     NaN        NaN    55.000000   \n",
       "max            NaN    NaN       1.000000     NaN        NaN    72.000000   \n",
       "\n",
       "       PhoneService MultipleLines InternetService OnlineSecurity  ...  \\\n",
       "count          7043          7043            7043           7043  ...   \n",
       "unique            2             3               3              3  ...   \n",
       "top             Yes            No     Fiber optic             No  ...   \n",
       "freq           6361          3390            3096           3498  ...   \n",
       "mean            NaN           NaN             NaN            NaN  ...   \n",
       "std             NaN           NaN             NaN            NaN  ...   \n",
       "min             NaN           NaN             NaN            NaN  ...   \n",
       "25%             NaN           NaN             NaN            NaN  ...   \n",
       "50%             NaN           NaN             NaN            NaN  ...   \n",
       "75%             NaN           NaN             NaN            NaN  ...   \n",
       "max             NaN           NaN             NaN            NaN  ...   \n",
       "\n",
       "       DeviceProtection TechSupport StreamingTV StreamingMovies  \\\n",
       "count              7043        7043        7043            7043   \n",
       "unique                3           3           3               3   \n",
       "top                  No          No          No              No   \n",
       "freq               3095        3473        2810            2785   \n",
       "mean                NaN         NaN         NaN             NaN   \n",
       "std                 NaN         NaN         NaN             NaN   \n",
       "min                 NaN         NaN         NaN             NaN   \n",
       "25%                 NaN         NaN         NaN             NaN   \n",
       "50%                 NaN         NaN         NaN             NaN   \n",
       "75%                 NaN         NaN         NaN             NaN   \n",
       "max                 NaN         NaN         NaN             NaN   \n",
       "\n",
       "              Contract PaperlessBilling     PaymentMethod MonthlyCharges  \\\n",
       "count             7043             7043              7043           7043   \n",
       "unique               3                2                 4            102   \n",
       "top     Month-to-month              Yes  Electronic check             20   \n",
       "freq              3875             4171              2365            786   \n",
       "mean               NaN              NaN               NaN            NaN   \n",
       "std                NaN              NaN               NaN            NaN   \n",
       "min                NaN              NaN               NaN            NaN   \n",
       "25%                NaN              NaN               NaN            NaN   \n",
       "50%                NaN              NaN               NaN            NaN   \n",
       "75%                NaN              NaN               NaN            NaN   \n",
       "max                NaN              NaN               NaN            NaN   \n",
       "\n",
       "       TotalCharges  Churn  \n",
       "count   7032.000000   7043  \n",
       "unique          NaN      2  \n",
       "top             NaN     No  \n",
       "freq            NaN   5174  \n",
       "mean    2283.300441    NaN  \n",
       "std     2266.771362    NaN  \n",
       "min       18.800000    NaN  \n",
       "25%      401.450000    NaN  \n",
       "50%     1397.475000    NaN  \n",
       "75%     3794.737500    NaN  \n",
       "max     8684.800000    NaN  \n",
       "\n",
       "[11 rows x 21 columns]>"
      ]
     },
     "execution_count": 405,
     "metadata": {},
     "output_type": "execute_result"
    }
   ],
   "source": [
    "df.describe(include='all').transpose"
   ]
  },
  {
   "cell_type": "markdown",
   "id": "twelve-syndication",
   "metadata": {},
   "source": [
    "#### max value for \"TotalCharges\" suggest there will be outliers"
   ]
  },
  {
   "cell_type": "code",
   "execution_count": 406,
   "id": "stopped-james",
   "metadata": {},
   "outputs": [
    {
     "name": "stderr",
     "output_type": "stream",
     "text": [
      "c:\\python\\lib\\site-packages\\seaborn\\distributions.py:2557: FutureWarning: `distplot` is a deprecated function and will be removed in a future version. Please adapt your code to use either `displot` (a figure-level function with similar flexibility) or `histplot` (an axes-level function for histograms).\n",
      "  warnings.warn(msg, FutureWarning)\n"
     ]
    },
    {
     "data": {
      "image/png": "[encoded data removed]",
      "text/plain": [
       "<Figure size 1224x504 with 2 Axes>"
      ]
     },
     "metadata": {
      "needs_background": "light"
     },
     "output_type": "display_data"
    }
   ],
   "source": [
    "f, axes = plt.subplots(1, 2, figsize=(17,7))\n",
    "sns.boxplot(x = 'TotalCharges', data=df , ax=axes[1])\n",
    "sns.distplot(df['TotalCharges'],  ax=axes[0])\n",
    "plt.show()"
   ]
  },
  {
   "cell_type": "markdown",
   "id": "removable-dance",
   "metadata": {},
   "source": [
    "#### The \"TotalCharges\" is right sckewed. But as there are no outliers, we can replace null/missing values with median "
   ]
  },
  {
   "cell_type": "code",
   "execution_count": 407,
   "id": "valuable-treasury",
   "metadata": {},
   "outputs": [],
   "source": [
    "from sklearn.impute import SimpleImputer\n",
    "dfnew = df['TotalCharges'].to_frame()\n",
    "rep_0 = SimpleImputer(missing_values=np.nan, strategy=\"median\")\n",
    "cols=dfnew.columns\n",
    "dfnew = pd.DataFrame(rep_0.fit_transform(dfnew))"
   ]
  },
  {
   "cell_type": "code",
   "execution_count": 408,
   "id": "raising-egyptian",
   "metadata": {},
   "outputs": [],
   "source": [
    "df['TotalCharges'] = dfnew"
   ]
  },
  {
   "cell_type": "code",
   "execution_count": 409,
   "id": "young-vietnamese",
   "metadata": {},
   "outputs": [
    {
     "data": {
      "text/plain": [
       "customerID          False\n",
       "gender              False\n",
       "SeniorCitizen       False\n",
       "Partner             False\n",
       "Dependents          False\n",
       "tenure              False\n",
       "PhoneService        False\n",
       "MultipleLines       False\n",
       "InternetService     False\n",
       "OnlineSecurity      False\n",
       "OnlineBackup        False\n",
       "DeviceProtection    False\n",
       "TechSupport         False\n",
       "StreamingTV         False\n",
       "StreamingMovies     False\n",
       "Contract            False\n",
       "PaperlessBilling    False\n",
       "PaymentMethod       False\n",
       "MonthlyCharges      False\n",
       "TotalCharges        False\n",
       "Churn               False\n",
       "dtype: bool"
      ]
     },
     "execution_count": 409,
     "metadata": {},
     "output_type": "execute_result"
    }
   ],
   "source": [
    "df.isnull().any()"
   ]
  },
  {
   "cell_type": "markdown",
   "id": "duplicate-allergy",
   "metadata": {},
   "source": [
    "#### We need to look at the value of all attributes contributing in building the model. CustomerID seems unique and brings no value to this"
   ]
  },
  {
   "cell_type": "code",
   "execution_count": 410,
   "id": "grand-philadelphia",
   "metadata": {},
   "outputs": [],
   "source": [
    "dfnew =  df.drop('customerID',axis=1)"
   ]
  },
  {
   "cell_type": "code",
   "execution_count": 411,
   "id": "enhanced-jaguar",
   "metadata": {},
   "outputs": [
    {
     "name": "stdout",
     "output_type": "stream",
     "text": [
      "['Gender:Female' 'Gender:Male']\n",
      "['Partner:Yes' 'Partner:No']\n",
      "['Dependents:No' 'Dependents:Yes']\n",
      "['PhoneService:No' 'PhoneService:Yes']\n",
      "['MultipleLines:No phone service' 'MultipleLines:No' 'MultipleLines:Yes']\n",
      "['InternetService:DSL' 'InternetService:Fiber optic' 'InternetService:No']\n",
      "['OnlineSecurity:No' 'OnlineSecurity:Yes'\n",
      " 'OnlineSecurity:No internet service']\n",
      "['OnlineBackup:Yes' 'OnlineBackup:No' 'OnlineBackup:No internet service']\n",
      "['DeviceProtection:No' 'DeviceProtection:Yes'\n",
      " 'DeviceProtection:No internet service']\n",
      "['TechSupport:No' 'TechSupport:Yes' 'TechSupport:No internet service']\n",
      "['StreamingTV:No' 'StreamingTV:Yes' 'StreamingTV:No internet service']\n",
      "['StreamingMovies:No' 'StreamingMovies:Yes'\n",
      " 'StreamingMovies:No internet service']\n",
      "['Contract:Month-to-month' 'Contract:One year' 'Contract:Two year']\n",
      "['PaperlessBilling:Yes' 'PaperlessBilling:No']\n",
      "['PaymentMethod:Electronic check' 'PaymentMethod:Mailed check'\n",
      " 'PaymentMethod:Bank transfer (automatic)'\n",
      " 'PaymentMethod:Credit card (automatic)']\n"
     ]
    }
   ],
   "source": [
    "print(\"Gender:\"+dfnew['gender'].unique())\n",
    "print(\"Partner:\"+dfnew['Partner'].unique())\n",
    "print(\"Dependents:\"+dfnew['Dependents'].unique())\n",
    "print(\"PhoneService:\"+dfnew['PhoneService'].unique())\n",
    "print(\"MultipleLines:\"+dfnew['MultipleLines'].unique())\n",
    "print(\"InternetService:\"+dfnew['InternetService'].unique())\n",
    "print(\"OnlineSecurity:\"+dfnew['OnlineSecurity'].unique())\n",
    "print(\"OnlineBackup:\"+dfnew['OnlineBackup'].unique())\n",
    "print(\"DeviceProtection:\"+dfnew['DeviceProtection'].unique())\n",
    "print(\"TechSupport:\"+dfnew['TechSupport'].unique())\n",
    "print(\"StreamingTV:\"+dfnew['StreamingTV'].unique())\n",
    "print(\"StreamingMovies:\"+dfnew['StreamingMovies'].unique())\n",
    "print(\"Contract:\"+dfnew['Contract'].unique())\n",
    "print(\"PaperlessBilling:\"+dfnew['PaperlessBilling'].unique())\n",
    "print(\"PaymentMethod:\"+dfnew['PaymentMethod'].unique())"
   ]
  },
  {
   "cell_type": "code",
   "execution_count": 412,
   "id": "working-charm",
   "metadata": {},
   "outputs": [
    {
     "data": {
      "text/html": [
       "<div>\n",
       "<style scoped>\n",
       "    .dataframe tbody tr th:only-of-type {\n",
       "        vertical-align: middle;\n",
       "    }\n",
       "\n",
       "    .dataframe tbody tr th {\n",
       "        vertical-align: top;\n",
       "    }\n",
       "\n",
       "    .dataframe thead th {\n",
       "        text-align: right;\n",
       "    }\n",
       "</style>\n",
       "<table border=\"1\" class=\"dataframe\">\n",
       "  <thead>\n",
       "    <tr style=\"text-align: right;\">\n",
       "      <th></th>\n",
       "      <th>gender</th>\n",
       "      <th>SeniorCitizen</th>\n",
       "      <th>Partner</th>\n",
       "      <th>Dependents</th>\n",
       "      <th>tenure</th>\n",
       "      <th>PhoneService</th>\n",
       "      <th>MultipleLines</th>\n",
       "      <th>InternetService</th>\n",
       "      <th>OnlineSecurity</th>\n",
       "      <th>OnlineBackup</th>\n",
       "      <th>DeviceProtection</th>\n",
       "      <th>TechSupport</th>\n",
       "      <th>StreamingTV</th>\n",
       "      <th>StreamingMovies</th>\n",
       "      <th>Contract</th>\n",
       "      <th>PaperlessBilling</th>\n",
       "      <th>PaymentMethod</th>\n",
       "      <th>MonthlyCharges</th>\n",
       "      <th>TotalCharges</th>\n",
       "      <th>Churn</th>\n",
       "    </tr>\n",
       "  </thead>\n",
       "  <tbody>\n",
       "    <tr>\n",
       "      <th>0</th>\n",
       "      <td>Female</td>\n",
       "      <td>0</td>\n",
       "      <td>Yes</td>\n",
       "      <td>No</td>\n",
       "      <td>1</td>\n",
       "      <td>No</td>\n",
       "      <td>No phone service</td>\n",
       "      <td>DSL</td>\n",
       "      <td>No</td>\n",
       "      <td>Yes</td>\n",
       "      <td>No</td>\n",
       "      <td>No</td>\n",
       "      <td>No</td>\n",
       "      <td>No</td>\n",
       "      <td>Month-to-month</td>\n",
       "      <td>Yes</td>\n",
       "      <td>Electronic check</td>\n",
       "      <td>30</td>\n",
       "      <td>29.85</td>\n",
       "      <td>No</td>\n",
       "    </tr>\n",
       "    <tr>\n",
       "      <th>1</th>\n",
       "      <td>Male</td>\n",
       "      <td>0</td>\n",
       "      <td>No</td>\n",
       "      <td>No</td>\n",
       "      <td>34</td>\n",
       "      <td>Yes</td>\n",
       "      <td>No</td>\n",
       "      <td>DSL</td>\n",
       "      <td>Yes</td>\n",
       "      <td>No</td>\n",
       "      <td>Yes</td>\n",
       "      <td>No</td>\n",
       "      <td>No</td>\n",
       "      <td>No</td>\n",
       "      <td>One year</td>\n",
       "      <td>No</td>\n",
       "      <td>Mailed check</td>\n",
       "      <td>57</td>\n",
       "      <td>1889.50</td>\n",
       "      <td>No</td>\n",
       "    </tr>\n",
       "    <tr>\n",
       "      <th>2</th>\n",
       "      <td>Male</td>\n",
       "      <td>0</td>\n",
       "      <td>No</td>\n",
       "      <td>No</td>\n",
       "      <td>2</td>\n",
       "      <td>Yes</td>\n",
       "      <td>No</td>\n",
       "      <td>DSL</td>\n",
       "      <td>Yes</td>\n",
       "      <td>Yes</td>\n",
       "      <td>No</td>\n",
       "      <td>No</td>\n",
       "      <td>No</td>\n",
       "      <td>No</td>\n",
       "      <td>Month-to-month</td>\n",
       "      <td>Yes</td>\n",
       "      <td>Mailed check</td>\n",
       "      <td>54</td>\n",
       "      <td>108.15</td>\n",
       "      <td>Yes</td>\n",
       "    </tr>\n",
       "    <tr>\n",
       "      <th>3</th>\n",
       "      <td>Male</td>\n",
       "      <td>0</td>\n",
       "      <td>No</td>\n",
       "      <td>No</td>\n",
       "      <td>45</td>\n",
       "      <td>No</td>\n",
       "      <td>No phone service</td>\n",
       "      <td>DSL</td>\n",
       "      <td>Yes</td>\n",
       "      <td>No</td>\n",
       "      <td>Yes</td>\n",
       "      <td>Yes</td>\n",
       "      <td>No</td>\n",
       "      <td>No</td>\n",
       "      <td>One year</td>\n",
       "      <td>No</td>\n",
       "      <td>Bank transfer (automatic)</td>\n",
       "      <td>42</td>\n",
       "      <td>1840.75</td>\n",
       "      <td>No</td>\n",
       "    </tr>\n",
       "    <tr>\n",
       "      <th>4</th>\n",
       "      <td>Female</td>\n",
       "      <td>0</td>\n",
       "      <td>No</td>\n",
       "      <td>No</td>\n",
       "      <td>2</td>\n",
       "      <td>Yes</td>\n",
       "      <td>No</td>\n",
       "      <td>Fiber optic</td>\n",
       "      <td>No</td>\n",
       "      <td>No</td>\n",
       "      <td>No</td>\n",
       "      <td>No</td>\n",
       "      <td>No</td>\n",
       "      <td>No</td>\n",
       "      <td>Month-to-month</td>\n",
       "      <td>Yes</td>\n",
       "      <td>Electronic check</td>\n",
       "      <td>71</td>\n",
       "      <td>151.65</td>\n",
       "      <td>Yes</td>\n",
       "    </tr>\n",
       "  </tbody>\n",
       "</table>\n",
       "</div>"
      ],
      "text/plain": [
       "   gender  SeniorCitizen Partner Dependents  tenure PhoneService  \\\n",
       "0  Female              0     Yes         No       1           No   \n",
       "1    Male              0      No         No      34          Yes   \n",
       "2    Male              0      No         No       2          Yes   \n",
       "3    Male              0      No         No      45           No   \n",
       "4  Female              0      No         No       2          Yes   \n",
       "\n",
       "      MultipleLines InternetService OnlineSecurity OnlineBackup  \\\n",
       "0  No phone service             DSL             No          Yes   \n",
       "1                No             DSL            Yes           No   \n",
       "2                No             DSL            Yes          Yes   \n",
       "3  No phone service             DSL            Yes           No   \n",
       "4                No     Fiber optic             No           No   \n",
       "\n",
       "  DeviceProtection TechSupport StreamingTV StreamingMovies        Contract  \\\n",
       "0               No          No          No              No  Month-to-month   \n",
       "1              Yes          No          No              No        One year   \n",
       "2               No          No          No              No  Month-to-month   \n",
       "3              Yes         Yes          No              No        One year   \n",
       "4               No          No          No              No  Month-to-month   \n",
       "\n",
       "  PaperlessBilling              PaymentMethod MonthlyCharges  TotalCharges  \\\n",
       "0              Yes           Electronic check             30         29.85   \n",
       "1               No               Mailed check             57       1889.50   \n",
       "2              Yes               Mailed check             54        108.15   \n",
       "3               No  Bank transfer (automatic)             42       1840.75   \n",
       "4              Yes           Electronic check             71        151.65   \n",
       "\n",
       "  Churn  \n",
       "0    No  \n",
       "1    No  \n",
       "2   Yes  \n",
       "3    No  \n",
       "4   Yes  "
      ]
     },
     "execution_count": 412,
     "metadata": {},
     "output_type": "execute_result"
    }
   ],
   "source": [
    "dfnew.head()"
   ]
  },
  {
   "cell_type": "code",
   "execution_count": 413,
   "id": "logical-promise",
   "metadata": {},
   "outputs": [],
   "source": [
    "dfnew['Churn'].replace(to_replace='Yes', value=1, inplace=True)\n",
    "dfnew['Churn'].replace(to_replace='No',  value=0, inplace=True)"
   ]
  },
  {
   "cell_type": "code",
   "execution_count": 414,
   "id": "amber-kazakhstan",
   "metadata": {},
   "outputs": [],
   "source": [
    "dfnew['MonthlyCharges'] = dfnew['MonthlyCharges'].astype('float32')"
   ]
  },
  {
   "cell_type": "code",
   "execution_count": 415,
   "id": "natural-edition",
   "metadata": {},
   "outputs": [
    {
     "data": {
      "text/html": [
       "<div>\n",
       "<style scoped>\n",
       "    .dataframe tbody tr th:only-of-type {\n",
       "        vertical-align: middle;\n",
       "    }\n",
       "\n",
       "    .dataframe tbody tr th {\n",
       "        vertical-align: top;\n",
       "    }\n",
       "\n",
       "    .dataframe thead th {\n",
       "        text-align: right;\n",
       "    }\n",
       "</style>\n",
       "<table border=\"1\" class=\"dataframe\">\n",
       "  <thead>\n",
       "    <tr style=\"text-align: right;\">\n",
       "      <th></th>\n",
       "      <th>SeniorCitizen</th>\n",
       "      <th>tenure</th>\n",
       "      <th>MonthlyCharges</th>\n",
       "      <th>TotalCharges</th>\n",
       "      <th>Churn</th>\n",
       "      <th>gender_Female</th>\n",
       "      <th>gender_Male</th>\n",
       "      <th>Partner_No</th>\n",
       "      <th>Partner_Yes</th>\n",
       "      <th>Dependents_No</th>\n",
       "      <th>...</th>\n",
       "      <th>StreamingMovies_Yes</th>\n",
       "      <th>Contract_Month-to-month</th>\n",
       "      <th>Contract_One year</th>\n",
       "      <th>Contract_Two year</th>\n",
       "      <th>PaperlessBilling_No</th>\n",
       "      <th>PaperlessBilling_Yes</th>\n",
       "      <th>PaymentMethod_Bank transfer (automatic)</th>\n",
       "      <th>PaymentMethod_Credit card (automatic)</th>\n",
       "      <th>PaymentMethod_Electronic check</th>\n",
       "      <th>PaymentMethod_Mailed check</th>\n",
       "    </tr>\n",
       "  </thead>\n",
       "  <tbody>\n",
       "    <tr>\n",
       "      <th>0</th>\n",
       "      <td>0</td>\n",
       "      <td>1</td>\n",
       "      <td>30.0</td>\n",
       "      <td>29.85</td>\n",
       "      <td>0</td>\n",
       "      <td>1</td>\n",
       "      <td>0</td>\n",
       "      <td>0</td>\n",
       "      <td>1</td>\n",
       "      <td>1</td>\n",
       "      <td>...</td>\n",
       "      <td>0</td>\n",
       "      <td>1</td>\n",
       "      <td>0</td>\n",
       "      <td>0</td>\n",
       "      <td>0</td>\n",
       "      <td>1</td>\n",
       "      <td>0</td>\n",
       "      <td>0</td>\n",
       "      <td>1</td>\n",
       "      <td>0</td>\n",
       "    </tr>\n",
       "    <tr>\n",
       "      <th>1</th>\n",
       "      <td>0</td>\n",
       "      <td>34</td>\n",
       "      <td>57.0</td>\n",
       "      <td>1889.50</td>\n",
       "      <td>0</td>\n",
       "      <td>0</td>\n",
       "      <td>1</td>\n",
       "      <td>1</td>\n",
       "      <td>0</td>\n",
       "      <td>1</td>\n",
       "      <td>...</td>\n",
       "      <td>0</td>\n",
       "      <td>0</td>\n",
       "      <td>1</td>\n",
       "      <td>0</td>\n",
       "      <td>1</td>\n",
       "      <td>0</td>\n",
       "      <td>0</td>\n",
       "      <td>0</td>\n",
       "      <td>0</td>\n",
       "      <td>1</td>\n",
       "    </tr>\n",
       "    <tr>\n",
       "      <th>2</th>\n",
       "      <td>0</td>\n",
       "      <td>2</td>\n",
       "      <td>54.0</td>\n",
       "      <td>108.15</td>\n",
       "      <td>1</td>\n",
       "      <td>0</td>\n",
       "      <td>1</td>\n",
       "      <td>1</td>\n",
       "      <td>0</td>\n",
       "      <td>1</td>\n",
       "      <td>...</td>\n",
       "      <td>0</td>\n",
       "      <td>1</td>\n",
       "      <td>0</td>\n",
       "      <td>0</td>\n",
       "      <td>0</td>\n",
       "      <td>1</td>\n",
       "      <td>0</td>\n",
       "      <td>0</td>\n",
       "      <td>0</td>\n",
       "      <td>1</td>\n",
       "    </tr>\n",
       "    <tr>\n",
       "      <th>3</th>\n",
       "      <td>0</td>\n",
       "      <td>45</td>\n",
       "      <td>42.0</td>\n",
       "      <td>1840.75</td>\n",
       "      <td>0</td>\n",
       "      <td>0</td>\n",
       "      <td>1</td>\n",
       "      <td>1</td>\n",
       "      <td>0</td>\n",
       "      <td>1</td>\n",
       "      <td>...</td>\n",
       "      <td>0</td>\n",
       "      <td>0</td>\n",
       "      <td>1</td>\n",
       "      <td>0</td>\n",
       "      <td>1</td>\n",
       "      <td>0</td>\n",
       "      <td>1</td>\n",
       "      <td>0</td>\n",
       "      <td>0</td>\n",
       "      <td>0</td>\n",
       "    </tr>\n",
       "    <tr>\n",
       "      <th>4</th>\n",
       "      <td>0</td>\n",
       "      <td>2</td>\n",
       "      <td>71.0</td>\n",
       "      <td>151.65</td>\n",
       "      <td>1</td>\n",
       "      <td>1</td>\n",
       "      <td>0</td>\n",
       "      <td>1</td>\n",
       "      <td>0</td>\n",
       "      <td>1</td>\n",
       "      <td>...</td>\n",
       "      <td>0</td>\n",
       "      <td>1</td>\n",
       "      <td>0</td>\n",
       "      <td>0</td>\n",
       "      <td>0</td>\n",
       "      <td>1</td>\n",
       "      <td>0</td>\n",
       "      <td>0</td>\n",
       "      <td>1</td>\n",
       "      <td>0</td>\n",
       "    </tr>\n",
       "  </tbody>\n",
       "</table>\n",
       "<p>5 rows × 46 columns</p>\n",
       "</div>"
      ],
      "text/plain": [
       "   SeniorCitizen  tenure  MonthlyCharges  TotalCharges  Churn  gender_Female  \\\n",
       "0              0       1            30.0         29.85      0              1   \n",
       "1              0      34            57.0       1889.50      0              0   \n",
       "2              0       2            54.0        108.15      1              0   \n",
       "3              0      45            42.0       1840.75      0              0   \n",
       "4              0       2            71.0        151.65      1              1   \n",
       "\n",
       "   gender_Male  Partner_No  Partner_Yes  Dependents_No  ...  \\\n",
       "0            0           0            1              1  ...   \n",
       "1            1           1            0              1  ...   \n",
       "2            1           1            0              1  ...   \n",
       "3            1           1            0              1  ...   \n",
       "4            0           1            0              1  ...   \n",
       "\n",
       "   StreamingMovies_Yes  Contract_Month-to-month  Contract_One year  \\\n",
       "0                    0                        1                  0   \n",
       "1                    0                        0                  1   \n",
       "2                    0                        1                  0   \n",
       "3                    0                        0                  1   \n",
       "4                    0                        1                  0   \n",
       "\n",
       "   Contract_Two year  PaperlessBilling_No  PaperlessBilling_Yes  \\\n",
       "0                  0                    0                     1   \n",
       "1                  0                    1                     0   \n",
       "2                  0                    0                     1   \n",
       "3                  0                    1                     0   \n",
       "4                  0                    0                     1   \n",
       "\n",
       "   PaymentMethod_Bank transfer (automatic)  \\\n",
       "0                                        0   \n",
       "1                                        0   \n",
       "2                                        0   \n",
       "3                                        1   \n",
       "4                                        0   \n",
       "\n",
       "   PaymentMethod_Credit card (automatic)  PaymentMethod_Electronic check  \\\n",
       "0                                      0                               1   \n",
       "1                                      0                               0   \n",
       "2                                      0                               0   \n",
       "3                                      0                               0   \n",
       "4                                      0                               1   \n",
       "\n",
       "   PaymentMethod_Mailed check  \n",
       "0                           0  \n",
       "1                           1  \n",
       "2                           1  \n",
       "3                           0  \n",
       "4                           0  \n",
       "\n",
       "[5 rows x 46 columns]"
      ]
     },
     "execution_count": 415,
     "metadata": {},
     "output_type": "execute_result"
    }
   ],
   "source": [
    "df_dummies = pd.get_dummies(dfnew)\n",
    "df_dummies.head()"
   ]
  },
  {
   "cell_type": "markdown",
   "id": "efficient-brooks",
   "metadata": {},
   "source": [
    "df_dummies.info()"
   ]
  },
  {
   "cell_type": "code",
   "execution_count": 416,
   "id": "theoretical-nightlife",
   "metadata": {},
   "outputs": [],
   "source": [
    "#Remove redundant data\n",
    "#dfnew =  df.drop(['gender_Male','Partner_No','Dependents_No','PhoneService_No','MultipleLines_No','InternetService_No','OnlineSecurity_No','OnlineBackup_No','DeviceProtection_No','TechSupport_No','StreamingTV_No','StreamingMovies_No','Contract_Month-to-month','PaperlessBilling_No','PaymentMethod_Mailed check'],axis=1)"
   ]
  },
  {
   "cell_type": "markdown",
   "id": "awful-oxford",
   "metadata": {},
   "source": [
    "# Data Analysis & Visulaization"
   ]
  },
  {
   "cell_type": "code",
   "execution_count": 417,
   "id": "liked-ribbon",
   "metadata": {},
   "outputs": [
    {
     "data": {
      "text/html": [
       "<div>\n",
       "<style scoped>\n",
       "    .dataframe tbody tr th:only-of-type {\n",
       "        vertical-align: middle;\n",
       "    }\n",
       "\n",
       "    .dataframe tbody tr th {\n",
       "        vertical-align: top;\n",
       "    }\n",
       "\n",
       "    .dataframe thead th {\n",
       "        text-align: right;\n",
       "    }\n",
       "</style>\n",
       "<table border=\"1\" class=\"dataframe\">\n",
       "  <thead>\n",
       "    <tr style=\"text-align: right;\">\n",
       "      <th></th>\n",
       "      <th>count</th>\n",
       "      <th>unique</th>\n",
       "      <th>top</th>\n",
       "      <th>freq</th>\n",
       "      <th>mean</th>\n",
       "      <th>std</th>\n",
       "      <th>min</th>\n",
       "      <th>25%</th>\n",
       "      <th>50%</th>\n",
       "      <th>75%</th>\n",
       "      <th>max</th>\n",
       "    </tr>\n",
       "  </thead>\n",
       "  <tbody>\n",
       "    <tr>\n",
       "      <th>gender</th>\n",
       "      <td>7043</td>\n",
       "      <td>2</td>\n",
       "      <td>Male</td>\n",
       "      <td>3555</td>\n",
       "      <td>NaN</td>\n",
       "      <td>NaN</td>\n",
       "      <td>NaN</td>\n",
       "      <td>NaN</td>\n",
       "      <td>NaN</td>\n",
       "      <td>NaN</td>\n",
       "      <td>NaN</td>\n",
       "    </tr>\n",
       "    <tr>\n",
       "      <th>SeniorCitizen</th>\n",
       "      <td>7043</td>\n",
       "      <td>NaN</td>\n",
       "      <td>NaN</td>\n",
       "      <td>NaN</td>\n",
       "      <td>0.162147</td>\n",
       "      <td>0.368612</td>\n",
       "      <td>0</td>\n",
       "      <td>0</td>\n",
       "      <td>0</td>\n",
       "      <td>0</td>\n",
       "      <td>1</td>\n",
       "    </tr>\n",
       "    <tr>\n",
       "      <th>Partner</th>\n",
       "      <td>7043</td>\n",
       "      <td>2</td>\n",
       "      <td>No</td>\n",
       "      <td>3641</td>\n",
       "      <td>NaN</td>\n",
       "      <td>NaN</td>\n",
       "      <td>NaN</td>\n",
       "      <td>NaN</td>\n",
       "      <td>NaN</td>\n",
       "      <td>NaN</td>\n",
       "      <td>NaN</td>\n",
       "    </tr>\n",
       "    <tr>\n",
       "      <th>Dependents</th>\n",
       "      <td>7043</td>\n",
       "      <td>2</td>\n",
       "      <td>No</td>\n",
       "      <td>4933</td>\n",
       "      <td>NaN</td>\n",
       "      <td>NaN</td>\n",
       "      <td>NaN</td>\n",
       "      <td>NaN</td>\n",
       "      <td>NaN</td>\n",
       "      <td>NaN</td>\n",
       "      <td>NaN</td>\n",
       "    </tr>\n",
       "    <tr>\n",
       "      <th>tenure</th>\n",
       "      <td>7043</td>\n",
       "      <td>NaN</td>\n",
       "      <td>NaN</td>\n",
       "      <td>NaN</td>\n",
       "      <td>32.3711</td>\n",
       "      <td>24.5595</td>\n",
       "      <td>0</td>\n",
       "      <td>9</td>\n",
       "      <td>29</td>\n",
       "      <td>55</td>\n",
       "      <td>72</td>\n",
       "    </tr>\n",
       "    <tr>\n",
       "      <th>PhoneService</th>\n",
       "      <td>7043</td>\n",
       "      <td>2</td>\n",
       "      <td>Yes</td>\n",
       "      <td>6361</td>\n",
       "      <td>NaN</td>\n",
       "      <td>NaN</td>\n",
       "      <td>NaN</td>\n",
       "      <td>NaN</td>\n",
       "      <td>NaN</td>\n",
       "      <td>NaN</td>\n",
       "      <td>NaN</td>\n",
       "    </tr>\n",
       "    <tr>\n",
       "      <th>MultipleLines</th>\n",
       "      <td>7043</td>\n",
       "      <td>3</td>\n",
       "      <td>No</td>\n",
       "      <td>3390</td>\n",
       "      <td>NaN</td>\n",
       "      <td>NaN</td>\n",
       "      <td>NaN</td>\n",
       "      <td>NaN</td>\n",
       "      <td>NaN</td>\n",
       "      <td>NaN</td>\n",
       "      <td>NaN</td>\n",
       "    </tr>\n",
       "    <tr>\n",
       "      <th>InternetService</th>\n",
       "      <td>7043</td>\n",
       "      <td>3</td>\n",
       "      <td>Fiber optic</td>\n",
       "      <td>3096</td>\n",
       "      <td>NaN</td>\n",
       "      <td>NaN</td>\n",
       "      <td>NaN</td>\n",
       "      <td>NaN</td>\n",
       "      <td>NaN</td>\n",
       "      <td>NaN</td>\n",
       "      <td>NaN</td>\n",
       "    </tr>\n",
       "    <tr>\n",
       "      <th>OnlineSecurity</th>\n",
       "      <td>7043</td>\n",
       "      <td>3</td>\n",
       "      <td>No</td>\n",
       "      <td>3498</td>\n",
       "      <td>NaN</td>\n",
       "      <td>NaN</td>\n",
       "      <td>NaN</td>\n",
       "      <td>NaN</td>\n",
       "      <td>NaN</td>\n",
       "      <td>NaN</td>\n",
       "      <td>NaN</td>\n",
       "    </tr>\n",
       "    <tr>\n",
       "      <th>OnlineBackup</th>\n",
       "      <td>7043</td>\n",
       "      <td>3</td>\n",
       "      <td>No</td>\n",
       "      <td>3088</td>\n",
       "      <td>NaN</td>\n",
       "      <td>NaN</td>\n",
       "      <td>NaN</td>\n",
       "      <td>NaN</td>\n",
       "      <td>NaN</td>\n",
       "      <td>NaN</td>\n",
       "      <td>NaN</td>\n",
       "    </tr>\n",
       "    <tr>\n",
       "      <th>DeviceProtection</th>\n",
       "      <td>7043</td>\n",
       "      <td>3</td>\n",
       "      <td>No</td>\n",
       "      <td>3095</td>\n",
       "      <td>NaN</td>\n",
       "      <td>NaN</td>\n",
       "      <td>NaN</td>\n",
       "      <td>NaN</td>\n",
       "      <td>NaN</td>\n",
       "      <td>NaN</td>\n",
       "      <td>NaN</td>\n",
       "    </tr>\n",
       "    <tr>\n",
       "      <th>TechSupport</th>\n",
       "      <td>7043</td>\n",
       "      <td>3</td>\n",
       "      <td>No</td>\n",
       "      <td>3473</td>\n",
       "      <td>NaN</td>\n",
       "      <td>NaN</td>\n",
       "      <td>NaN</td>\n",
       "      <td>NaN</td>\n",
       "      <td>NaN</td>\n",
       "      <td>NaN</td>\n",
       "      <td>NaN</td>\n",
       "    </tr>\n",
       "    <tr>\n",
       "      <th>StreamingTV</th>\n",
       "      <td>7043</td>\n",
       "      <td>3</td>\n",
       "      <td>No</td>\n",
       "      <td>2810</td>\n",
       "      <td>NaN</td>\n",
       "      <td>NaN</td>\n",
       "      <td>NaN</td>\n",
       "      <td>NaN</td>\n",
       "      <td>NaN</td>\n",
       "      <td>NaN</td>\n",
       "      <td>NaN</td>\n",
       "    </tr>\n",
       "    <tr>\n",
       "      <th>StreamingMovies</th>\n",
       "      <td>7043</td>\n",
       "      <td>3</td>\n",
       "      <td>No</td>\n",
       "      <td>2785</td>\n",
       "      <td>NaN</td>\n",
       "      <td>NaN</td>\n",
       "      <td>NaN</td>\n",
       "      <td>NaN</td>\n",
       "      <td>NaN</td>\n",
       "      <td>NaN</td>\n",
       "      <td>NaN</td>\n",
       "    </tr>\n",
       "    <tr>\n",
       "      <th>Contract</th>\n",
       "      <td>7043</td>\n",
       "      <td>3</td>\n",
       "      <td>Month-to-month</td>\n",
       "      <td>3875</td>\n",
       "      <td>NaN</td>\n",
       "      <td>NaN</td>\n",
       "      <td>NaN</td>\n",
       "      <td>NaN</td>\n",
       "      <td>NaN</td>\n",
       "      <td>NaN</td>\n",
       "      <td>NaN</td>\n",
       "    </tr>\n",
       "    <tr>\n",
       "      <th>PaperlessBilling</th>\n",
       "      <td>7043</td>\n",
       "      <td>2</td>\n",
       "      <td>Yes</td>\n",
       "      <td>4171</td>\n",
       "      <td>NaN</td>\n",
       "      <td>NaN</td>\n",
       "      <td>NaN</td>\n",
       "      <td>NaN</td>\n",
       "      <td>NaN</td>\n",
       "      <td>NaN</td>\n",
       "      <td>NaN</td>\n",
       "    </tr>\n",
       "    <tr>\n",
       "      <th>PaymentMethod</th>\n",
       "      <td>7043</td>\n",
       "      <td>4</td>\n",
       "      <td>Electronic check</td>\n",
       "      <td>2365</td>\n",
       "      <td>NaN</td>\n",
       "      <td>NaN</td>\n",
       "      <td>NaN</td>\n",
       "      <td>NaN</td>\n",
       "      <td>NaN</td>\n",
       "      <td>NaN</td>\n",
       "      <td>NaN</td>\n",
       "    </tr>\n",
       "    <tr>\n",
       "      <th>MonthlyCharges</th>\n",
       "      <td>7043</td>\n",
       "      <td>NaN</td>\n",
       "      <td>NaN</td>\n",
       "      <td>NaN</td>\n",
       "      <td>71.0838</td>\n",
       "      <td>529.096</td>\n",
       "      <td>18</td>\n",
       "      <td>36</td>\n",
       "      <td>70</td>\n",
       "      <td>90</td>\n",
       "      <td>44396</td>\n",
       "    </tr>\n",
       "    <tr>\n",
       "      <th>TotalCharges</th>\n",
       "      <td>7043</td>\n",
       "      <td>NaN</td>\n",
       "      <td>NaN</td>\n",
       "      <td>NaN</td>\n",
       "      <td>2281.92</td>\n",
       "      <td>2265.27</td>\n",
       "      <td>18.8</td>\n",
       "      <td>402.225</td>\n",
       "      <td>1397.47</td>\n",
       "      <td>3786.6</td>\n",
       "      <td>8684.8</td>\n",
       "    </tr>\n",
       "    <tr>\n",
       "      <th>Churn</th>\n",
       "      <td>7043</td>\n",
       "      <td>NaN</td>\n",
       "      <td>NaN</td>\n",
       "      <td>NaN</td>\n",
       "      <td>0.26537</td>\n",
       "      <td>0.441561</td>\n",
       "      <td>0</td>\n",
       "      <td>0</td>\n",
       "      <td>0</td>\n",
       "      <td>1</td>\n",
       "      <td>1</td>\n",
       "    </tr>\n",
       "  </tbody>\n",
       "</table>\n",
       "</div>"
      ],
      "text/plain": [
       "                 count unique               top  freq      mean       std  \\\n",
       "gender            7043      2              Male  3555       NaN       NaN   \n",
       "SeniorCitizen     7043    NaN               NaN   NaN  0.162147  0.368612   \n",
       "Partner           7043      2                No  3641       NaN       NaN   \n",
       "Dependents        7043      2                No  4933       NaN       NaN   \n",
       "tenure            7043    NaN               NaN   NaN   32.3711   24.5595   \n",
       "PhoneService      7043      2               Yes  6361       NaN       NaN   \n",
       "MultipleLines     7043      3                No  3390       NaN       NaN   \n",
       "InternetService   7043      3       Fiber optic  3096       NaN       NaN   \n",
       "OnlineSecurity    7043      3                No  3498       NaN       NaN   \n",
       "OnlineBackup      7043      3                No  3088       NaN       NaN   \n",
       "DeviceProtection  7043      3                No  3095       NaN       NaN   \n",
       "TechSupport       7043      3                No  3473       NaN       NaN   \n",
       "StreamingTV       7043      3                No  2810       NaN       NaN   \n",
       "StreamingMovies   7043      3                No  2785       NaN       NaN   \n",
       "Contract          7043      3    Month-to-month  3875       NaN       NaN   \n",
       "PaperlessBilling  7043      2               Yes  4171       NaN       NaN   \n",
       "PaymentMethod     7043      4  Electronic check  2365       NaN       NaN   \n",
       "MonthlyCharges    7043    NaN               NaN   NaN   71.0838   529.096   \n",
       "TotalCharges      7043    NaN               NaN   NaN   2281.92   2265.27   \n",
       "Churn             7043    NaN               NaN   NaN   0.26537  0.441561   \n",
       "\n",
       "                   min      25%      50%     75%     max  \n",
       "gender             NaN      NaN      NaN     NaN     NaN  \n",
       "SeniorCitizen        0        0        0       0       1  \n",
       "Partner            NaN      NaN      NaN     NaN     NaN  \n",
       "Dependents         NaN      NaN      NaN     NaN     NaN  \n",
       "tenure               0        9       29      55      72  \n",
       "PhoneService       NaN      NaN      NaN     NaN     NaN  \n",
       "MultipleLines      NaN      NaN      NaN     NaN     NaN  \n",
       "InternetService    NaN      NaN      NaN     NaN     NaN  \n",
       "OnlineSecurity     NaN      NaN      NaN     NaN     NaN  \n",
       "OnlineBackup       NaN      NaN      NaN     NaN     NaN  \n",
       "DeviceProtection   NaN      NaN      NaN     NaN     NaN  \n",
       "TechSupport        NaN      NaN      NaN     NaN     NaN  \n",
       "StreamingTV        NaN      NaN      NaN     NaN     NaN  \n",
       "StreamingMovies    NaN      NaN      NaN     NaN     NaN  \n",
       "Contract           NaN      NaN      NaN     NaN     NaN  \n",
       "PaperlessBilling   NaN      NaN      NaN     NaN     NaN  \n",
       "PaymentMethod      NaN      NaN      NaN     NaN     NaN  \n",
       "MonthlyCharges      18       36       70      90   44396  \n",
       "TotalCharges      18.8  402.225  1397.47  3786.6  8684.8  \n",
       "Churn                0        0        0       1       1  "
      ]
     },
     "execution_count": 417,
     "metadata": {},
     "output_type": "execute_result"
    }
   ],
   "source": [
    "dfnew.describe(include='all').transpose()"
   ]
  },
  {
   "cell_type": "markdown",
   "id": "consecutive-kelly",
   "metadata": {},
   "source": [
    "#### Tenure, MonthlyCharges and TotalCharges are continuous variables. Above data shows that MonthlyCharges are slightly right sckewed with few outliers. Tenure seems to be normally distributed. TotalCharges are seems to left sckewed. Lets find more with visuals."
   ]
  },
  {
   "cell_type": "markdown",
   "id": "optical-eagle",
   "metadata": {},
   "source": [
    "# Univariant analysis"
   ]
  },
  {
   "cell_type": "code",
   "execution_count": 144,
   "id": "creative-meter",
   "metadata": {},
   "outputs": [
    {
     "name": "stderr",
     "output_type": "stream",
     "text": [
      "c:\\python\\lib\\site-packages\\seaborn\\distributions.py:2557: FutureWarning: `distplot` is a deprecated function and will be removed in a future version. Please adapt your code to use either `displot` (a figure-level function with similar flexibility) or `histplot` (an axes-level function for histograms).\n",
      "  warnings.warn(msg, FutureWarning)\n"
     ]
    },
    {
     "data": {
      "image/png": "[encoded data removed]",
      "text/plain": [
       "<Figure size 1224x504 with 2 Axes>"
      ]
     },
     "metadata": {
      "needs_background": "light"
     },
     "output_type": "display_data"
    }
   ],
   "source": [
    "f, axes = plt.subplots(1, 2, figsize=(17,7))\n",
    "sns.boxplot(x = 'tenure', data=dfnew , ax=axes[1])\n",
    "sns.distplot(dfnew['tenure'],  ax=axes[0])\n",
    "plt.show()"
   ]
  },
  {
   "cell_type": "markdown",
   "id": "driving-interview",
   "metadata": {},
   "source": [
    "#### Tenure is fairly normally distributed without outliers. "
   ]
  },
  {
   "cell_type": "code",
   "execution_count": 134,
   "id": "later-phone",
   "metadata": {},
   "outputs": [
    {
     "name": "stderr",
     "output_type": "stream",
     "text": [
      "c:\\python\\lib\\site-packages\\seaborn\\distributions.py:2557: FutureWarning: `distplot` is a deprecated function and will be removed in a future version. Please adapt your code to use either `displot` (a figure-level function with similar flexibility) or `histplot` (an axes-level function for histograms).\n",
      "  warnings.warn(msg, FutureWarning)\n"
     ]
    },
    {
     "data": {
      "image/png": "[encoded data removed]",
      "text/plain": [
       "<Figure size 1224x504 with 2 Axes>"
      ]
     },
     "metadata": {
      "needs_background": "light"
     },
     "output_type": "display_data"
    }
   ],
   "source": [
    "f, axes = plt.subplots(1, 2, figsize=(17,7))\n",
    "sns.boxplot(x = 'MonthlyCharges', data=dfnew , ax=axes[1])\n",
    "sns.distplot(dfnew['MonthlyCharges'],  ax=axes[0])\n",
    "plt.show()"
   ]
  },
  {
   "cell_type": "markdown",
   "id": "protective-panel",
   "metadata": {},
   "source": [
    "#### It seems that there is one outlier affecting the projection of MonthlyCharges."
   ]
  },
  {
   "cell_type": "code",
   "execution_count": 136,
   "id": "military-statistics",
   "metadata": {},
   "outputs": [
    {
     "name": "stderr",
     "output_type": "stream",
     "text": [
      "c:\\python\\lib\\site-packages\\seaborn\\_decorators.py:43: FutureWarning: Pass the following variable as a keyword arg: x. From version 0.12, the only valid positional argument will be `data`, and passing other arguments without an explicit keyword will result in an error or misinterpretation.\n",
      "  FutureWarning\n"
     ]
    },
    {
     "data": {
      "image/png": "[encoded data removed]",
      "text/plain": [
       "<Figure size 432x288 with 1 Axes>"
      ]
     },
     "metadata": {
      "needs_background": "light"
     },
     "output_type": "display_data"
    }
   ],
   "source": [
    "sns.countplot('gender',data=dfnew)\n",
    "plt.show()"
   ]
  },
  {
   "cell_type": "markdown",
   "id": "heavy-skiing",
   "metadata": {},
   "source": [
    "#### Gender seems to be equally distributed. Survey data contains approximately equal number of males and females."
   ]
  },
  {
   "cell_type": "code",
   "execution_count": 137,
   "id": "southern-renaissance",
   "metadata": {},
   "outputs": [
    {
     "name": "stderr",
     "output_type": "stream",
     "text": [
      "c:\\python\\lib\\site-packages\\seaborn\\_decorators.py:43: FutureWarning: Pass the following variable as a keyword arg: x. From version 0.12, the only valid positional argument will be `data`, and passing other arguments without an explicit keyword will result in an error or misinterpretation.\n",
      "  FutureWarning\n"
     ]
    },
    {
     "data": {
      "image/png": "[encoded data removed]",
      "text/plain": [
       "<Figure size 432x288 with 1 Axes>"
      ]
     },
     "metadata": {
      "needs_background": "light"
     },
     "output_type": "display_data"
    }
   ],
   "source": [
    "sns.countplot('SeniorCitizen',data=dfnew)\n",
    "plt.show()"
   ]
  },
  {
   "cell_type": "markdown",
   "id": "strong-sacramento",
   "metadata": {},
   "source": [
    "#### Number of Senior citizens are less in the original data."
   ]
  },
  {
   "cell_type": "code",
   "execution_count": 138,
   "id": "hollow-andorra",
   "metadata": {},
   "outputs": [
    {
     "name": "stderr",
     "output_type": "stream",
     "text": [
      "c:\\python\\lib\\site-packages\\seaborn\\_decorators.py:43: FutureWarning: Pass the following variable as a keyword arg: x. From version 0.12, the only valid positional argument will be `data`, and passing other arguments without an explicit keyword will result in an error or misinterpretation.\n",
      "  FutureWarning\n"
     ]
    },
    {
     "data": {
      "image/png": "[encoded data removed]",
      "text/plain": [
       "<Figure size 432x288 with 1 Axes>"
      ]
     },
     "metadata": {
      "needs_background": "light"
     },
     "output_type": "display_data"
    }
   ],
   "source": [
    "sns.countplot('Partner',data=dfnew)\n",
    "plt.show()"
   ]
  },
  {
   "cell_type": "markdown",
   "id": "valuable-buyer",
   "metadata": {},
   "source": [
    "#### Data involves almost equal % of people who are partner and who are not."
   ]
  },
  {
   "cell_type": "code",
   "execution_count": 140,
   "id": "manual-carry",
   "metadata": {},
   "outputs": [
    {
     "name": "stderr",
     "output_type": "stream",
     "text": [
      "c:\\python\\lib\\site-packages\\seaborn\\_decorators.py:43: FutureWarning: Pass the following variable as a keyword arg: x. From version 0.12, the only valid positional argument will be `data`, and passing other arguments without an explicit keyword will result in an error or misinterpretation.\n",
      "  FutureWarning\n"
     ]
    },
    {
     "data": {
      "image/png": "[encoded data removed]",
      "text/plain": [
       "<Figure size 432x288 with 1 Axes>"
      ]
     },
     "metadata": {
      "needs_background": "light"
     },
     "output_type": "display_data"
    }
   ],
   "source": [
    "sns.countplot('Dependents',data=dfnew)\n",
    "plt.show()"
   ]
  },
  {
   "cell_type": "markdown",
   "id": "fiscal-shock",
   "metadata": {},
   "source": [
    "#### Count of Dependents is lesser(almost half) than Non-Dependents."
   ]
  },
  {
   "cell_type": "code",
   "execution_count": 141,
   "id": "accessory-roman",
   "metadata": {},
   "outputs": [
    {
     "name": "stderr",
     "output_type": "stream",
     "text": [
      "c:\\python\\lib\\site-packages\\seaborn\\_decorators.py:43: FutureWarning: Pass the following variable as a keyword arg: x. From version 0.12, the only valid positional argument will be `data`, and passing other arguments without an explicit keyword will result in an error or misinterpretation.\n",
      "  FutureWarning\n"
     ]
    },
    {
     "data": {
      "image/png": "[encoded data removed]",
      "text/plain": [
       "<Figure size 432x288 with 1 Axes>"
      ]
     },
     "metadata": {
      "needs_background": "light"
     },
     "output_type": "display_data"
    }
   ],
   "source": [
    "sns.countplot('PhoneService',data=dfnew)\n",
    "plt.show()"
   ]
  },
  {
   "cell_type": "markdown",
   "id": "superb-viewer",
   "metadata": {},
   "source": [
    "#### Most of the Customers involved in this data have PhoneService."
   ]
  },
  {
   "cell_type": "code",
   "execution_count": 142,
   "id": "altered-venue",
   "metadata": {},
   "outputs": [
    {
     "name": "stderr",
     "output_type": "stream",
     "text": [
      "c:\\python\\lib\\site-packages\\seaborn\\_decorators.py:43: FutureWarning: Pass the following variable as a keyword arg: x. From version 0.12, the only valid positional argument will be `data`, and passing other arguments without an explicit keyword will result in an error or misinterpretation.\n",
      "  FutureWarning\n"
     ]
    },
    {
     "data": {
      "image/png": "[encoded data removed]",
      "text/plain": [
       "<Figure size 432x288 with 1 Axes>"
      ]
     },
     "metadata": {
      "needs_background": "light"
     },
     "output_type": "display_data"
    }
   ],
   "source": [
    "sns.countplot('MultipleLines',data=dfnew)\n",
    "plt.show()"
   ]
  },
  {
   "cell_type": "markdown",
   "id": "middle-treasury",
   "metadata": {},
   "source": [
    "#### As we saw, there are few Customers with No Phone service. But who has service involves more customers one Line than customers with Multiple Lines."
   ]
  },
  {
   "cell_type": "code",
   "execution_count": 143,
   "id": "alike-graphic",
   "metadata": {},
   "outputs": [
    {
     "name": "stderr",
     "output_type": "stream",
     "text": [
      "c:\\python\\lib\\site-packages\\seaborn\\_decorators.py:43: FutureWarning: Pass the following variable as a keyword arg: x. From version 0.12, the only valid positional argument will be `data`, and passing other arguments without an explicit keyword will result in an error or misinterpretation.\n",
      "  FutureWarning\n"
     ]
    },
    {
     "data": {
      "image/png": "[encoded data removed]",
      "text/plain": [
       "<Figure size 432x288 with 1 Axes>"
      ]
     },
     "metadata": {
      "needs_background": "light"
     },
     "output_type": "display_data"
    }
   ],
   "source": [
    "sns.countplot('InternetService',data=dfnew)\n",
    "plt.show()"
   ]
  },
  {
   "cell_type": "markdown",
   "id": "objective-cinema",
   "metadata": {},
   "source": [
    "#### More customers have InternetService with Fiber optic(approx. 3100), less with DSL(approx. 2400) and lesser without InternerService(approx. 1500)."
   ]
  },
  {
   "cell_type": "code",
   "execution_count": 145,
   "id": "brown-wheel",
   "metadata": {},
   "outputs": [
    {
     "name": "stderr",
     "output_type": "stream",
     "text": [
      "c:\\python\\lib\\site-packages\\seaborn\\_decorators.py:43: FutureWarning: Pass the following variable as a keyword arg: x. From version 0.12, the only valid positional argument will be `data`, and passing other arguments without an explicit keyword will result in an error or misinterpretation.\n",
      "  FutureWarning\n"
     ]
    },
    {
     "data": {
      "image/png": "[encoded data removed]",
      "text/plain": [
       "<Figure size 432x288 with 1 Axes>"
      ]
     },
     "metadata": {
      "needs_background": "light"
     },
     "output_type": "display_data"
    }
   ],
   "source": [
    "sns.countplot('OnlineSecurity',data=dfnew)\n",
    "plt.show()"
   ]
  },
  {
   "cell_type": "markdown",
   "id": "starting-symbol",
   "metadata": {},
   "source": [
    "#### As we have seen that there around 1500 customers without Internet Service, in those who have it, 3500 customers do not have Online security and around 2000 have online security. "
   ]
  },
  {
   "cell_type": "code",
   "execution_count": 146,
   "id": "fossil-chorus",
   "metadata": {},
   "outputs": [
    {
     "name": "stderr",
     "output_type": "stream",
     "text": [
      "c:\\python\\lib\\site-packages\\seaborn\\_decorators.py:43: FutureWarning: Pass the following variable as a keyword arg: x. From version 0.12, the only valid positional argument will be `data`, and passing other arguments without an explicit keyword will result in an error or misinterpretation.\n",
      "  FutureWarning\n"
     ]
    },
    {
     "data": {
      "image/png": "[encoded data removed]",
      "text/plain": [
       "<Figure size 432x288 with 1 Axes>"
      ]
     },
     "metadata": {
      "needs_background": "light"
     },
     "output_type": "display_data"
    }
   ],
   "source": [
    "sns.countplot('OnlineBackup',data=dfnew)\n",
    "plt.show()"
   ]
  },
  {
   "cell_type": "markdown",
   "id": "indonesian-thinking",
   "metadata": {},
   "source": [
    "#### Apart from customers without Internet service (approx. 1500), approx. 2400 customers take online backup and approx. 3100 don't. "
   ]
  },
  {
   "cell_type": "code",
   "execution_count": 147,
   "id": "trained-pillow",
   "metadata": {},
   "outputs": [
    {
     "name": "stderr",
     "output_type": "stream",
     "text": [
      "c:\\python\\lib\\site-packages\\seaborn\\_decorators.py:43: FutureWarning: Pass the following variable as a keyword arg: x. From version 0.12, the only valid positional argument will be `data`, and passing other arguments without an explicit keyword will result in an error or misinterpretation.\n",
      "  FutureWarning\n"
     ]
    },
    {
     "data": {
      "image/png": "[encoded data removed]",
      "text/plain": [
       "<Figure size 432x288 with 1 Axes>"
      ]
     },
     "metadata": {
      "needs_background": "light"
     },
     "output_type": "display_data"
    }
   ],
   "source": [
    "sns.countplot('DeviceProtection',data=dfnew)\n",
    "plt.show()"
   ]
  },
  {
   "cell_type": "markdown",
   "id": "champion-ranking",
   "metadata": {},
   "source": [
    "#### We have approx. 3100 customers without DeviceProtection and approx. 2300 customers who signed up for DeviceProtection. "
   ]
  },
  {
   "cell_type": "code",
   "execution_count": 148,
   "id": "related-familiar",
   "metadata": {},
   "outputs": [
    {
     "name": "stderr",
     "output_type": "stream",
     "text": [
      "c:\\python\\lib\\site-packages\\seaborn\\_decorators.py:43: FutureWarning: Pass the following variable as a keyword arg: x. From version 0.12, the only valid positional argument will be `data`, and passing other arguments without an explicit keyword will result in an error or misinterpretation.\n",
      "  FutureWarning\n"
     ]
    },
    {
     "data": {
      "image/png": "[encoded data removed]",
      "text/plain": [
       "<Figure size 432x288 with 1 Axes>"
      ]
     },
     "metadata": {
      "needs_background": "light"
     },
     "output_type": "display_data"
    }
   ],
   "source": [
    "sns.countplot('TechSupport',data=dfnew)\n",
    "plt.show()"
   ]
  },
  {
   "cell_type": "markdown",
   "id": "useful-testing",
   "metadata": {},
   "source": [
    "#### Around 3400 customer do not have TechSupport and 2000 customers have it."
   ]
  },
  {
   "cell_type": "code",
   "execution_count": 149,
   "id": "protective-assist",
   "metadata": {},
   "outputs": [
    {
     "name": "stderr",
     "output_type": "stream",
     "text": [
      "c:\\python\\lib\\site-packages\\seaborn\\_decorators.py:43: FutureWarning: Pass the following variable as a keyword arg: x. From version 0.12, the only valid positional argument will be `data`, and passing other arguments without an explicit keyword will result in an error or misinterpretation.\n",
      "  FutureWarning\n"
     ]
    },
    {
     "data": {
      "image/png": "[encoded data removed]",
      "text/plain": [
       "<Figure size 432x288 with 1 Axes>"
      ]
     },
     "metadata": {
      "needs_background": "light"
     },
     "output_type": "display_data"
    }
   ],
   "source": [
    "sns.countplot('StreamingTV',data=dfnew)\n",
    "plt.show()"
   ]
  },
  {
   "cell_type": "markdown",
   "id": "handmade-seeker",
   "metadata": {},
   "source": [
    "#### We have approx. equal number of customers who steam or do not steam TV. "
   ]
  },
  {
   "cell_type": "code",
   "execution_count": 150,
   "id": "about-planning",
   "metadata": {},
   "outputs": [
    {
     "name": "stderr",
     "output_type": "stream",
     "text": [
      "c:\\python\\lib\\site-packages\\seaborn\\_decorators.py:43: FutureWarning: Pass the following variable as a keyword arg: x. From version 0.12, the only valid positional argument will be `data`, and passing other arguments without an explicit keyword will result in an error or misinterpretation.\n",
      "  FutureWarning\n"
     ]
    },
    {
     "data": {
      "image/png": "[encoded data removed]",
      "text/plain": [
       "<Figure size 432x288 with 1 Axes>"
      ]
     },
     "metadata": {
      "needs_background": "light"
     },
     "output_type": "display_data"
    }
   ],
   "source": [
    "sns.countplot('StreamingMovies',data=dfnew)\n",
    "plt.show()"
   ]
  },
  {
   "cell_type": "markdown",
   "id": "designed-melbourne",
   "metadata": {},
   "source": [
    "#### As streaming TV, streaming Movie shows same numbers who streams or who do not."
   ]
  },
  {
   "cell_type": "code",
   "execution_count": 151,
   "id": "unknown-completion",
   "metadata": {},
   "outputs": [
    {
     "name": "stderr",
     "output_type": "stream",
     "text": [
      "c:\\python\\lib\\site-packages\\seaborn\\_decorators.py:43: FutureWarning: Pass the following variable as a keyword arg: x. From version 0.12, the only valid positional argument will be `data`, and passing other arguments without an explicit keyword will result in an error or misinterpretation.\n",
      "  FutureWarning\n"
     ]
    },
    {
     "data": {
      "image/png": "[encoded data removed]",
      "text/plain": [
       "<Figure size 432x288 with 1 Axes>"
      ]
     },
     "metadata": {
      "needs_background": "light"
     },
     "output_type": "display_data"
    }
   ],
   "source": [
    "sns.countplot('Contract',data=dfnew)\n",
    "plt.show()"
   ]
  },
  {
   "cell_type": "markdown",
   "id": "plain-frontier",
   "metadata": {},
   "source": [
    "#### From all the cutomers who are contracted, 3800 of them have monthly contract, 1600 of them have 2 years contract and around 1400 have 1 year contract."
   ]
  },
  {
   "cell_type": "code",
   "execution_count": 152,
   "id": "olympic-restaurant",
   "metadata": {},
   "outputs": [
    {
     "name": "stderr",
     "output_type": "stream",
     "text": [
      "c:\\python\\lib\\site-packages\\seaborn\\_decorators.py:43: FutureWarning: Pass the following variable as a keyword arg: x. From version 0.12, the only valid positional argument will be `data`, and passing other arguments without an explicit keyword will result in an error or misinterpretation.\n",
      "  FutureWarning\n"
     ]
    },
    {
     "data": {
      "image/png": "[encoded data removed]",
      "text/plain": [
       "<Figure size 432x288 with 1 Axes>"
      ]
     },
     "metadata": {
      "needs_background": "light"
     },
     "output_type": "display_data"
    }
   ],
   "source": [
    "sns.countplot('PaperlessBilling',data=dfnew)\n",
    "plt.show()"
   ]
  },
  {
   "cell_type": "markdown",
   "id": "middle-legend",
   "metadata": {},
   "source": [
    "#### Over 4000 customers of all, have opted for Paperless billings and 2750 did not."
   ]
  },
  {
   "cell_type": "code",
   "execution_count": 154,
   "id": "coastal-scenario",
   "metadata": {},
   "outputs": [
    {
     "name": "stderr",
     "output_type": "stream",
     "text": [
      "c:\\python\\lib\\site-packages\\seaborn\\_decorators.py:43: FutureWarning: Pass the following variable as a keyword arg: x. From version 0.12, the only valid positional argument will be `data`, and passing other arguments without an explicit keyword will result in an error or misinterpretation.\n",
      "  FutureWarning\n"
     ]
    },
    {
     "data": {
      "image/png": "[encoded data removed]",
      "text/plain": [
       "<Figure size 432x288 with 1 Axes>"
      ]
     },
     "metadata": {
      "needs_background": "light"
     },
     "output_type": "display_data"
    }
   ],
   "source": [
    "sns.countplot('PaymentMethod',data=dfnew)\n",
    "plt.show()"
   ]
  },
  {
   "cell_type": "markdown",
   "id": "automotive-motor",
   "metadata": {},
   "source": [
    "#### Method of payment used by customers,  over 2300 customers use electronic check and around 1500 cutomers each, use Mailed check, Bank transfer and credit card for payment."
   ]
  },
  {
   "cell_type": "markdown",
   "id": "administrative-personality",
   "metadata": {},
   "source": [
    "# Bivariant anaysis"
   ]
  },
  {
   "cell_type": "code",
   "execution_count": 164,
   "id": "banned-plain",
   "metadata": {},
   "outputs": [
    {
     "data": {
      "text/plain": [
       "Text(0.5, 1.0, 'Churn by Gender')"
      ]
     },
     "execution_count": 164,
     "metadata": {},
     "output_type": "execute_result"
    },
    {
     "data": {
      "image/png": "[encoded data removed]",
      "text/plain": [
       "<Figure size 720x432 with 1 Axes>"
      ]
     },
     "metadata": {
      "needs_background": "light"
     },
     "output_type": "display_data"
    }
   ],
   "source": [
    "contract_churn = dfnew.groupby(['gender','Churn']).size().unstack()\n",
    "\n",
    "ax = (contract_churn.T*100.0 / contract_churn.T.sum()).T.plot(kind='bar',\n",
    "                                                                width = 0.3,\n",
    "                                                                rot = 0, \n",
    "                                                                figsize = (10,6))\n",
    "\n",
    "ax.set_ylabel('% Customers',size = 14)\n",
    "ax.set_title('Churn by Gender',size = 14)"
   ]
  },
  {
   "cell_type": "markdown",
   "id": "little-giant",
   "metadata": {},
   "source": [
    "#### In Female customers, more than 70% do not use telecome product and in male customers too more than 70% do not use telecome product."
   ]
  },
  {
   "cell_type": "code",
   "execution_count": 166,
   "id": "infinite-hungary",
   "metadata": {},
   "outputs": [
    {
     "data": {
      "text/plain": [
       "Text(0.5, 1.0, 'Churn by SeniorCitizen')"
      ]
     },
     "execution_count": 166,
     "metadata": {},
     "output_type": "execute_result"
    },
    {
     "data": {
      "image/png": "[encoded data removed]",
      "text/plain": [
       "<Figure size 720x432 with 1 Axes>"
      ]
     },
     "metadata": {
      "needs_background": "light"
     },
     "output_type": "display_data"
    }
   ],
   "source": [
    "contract_churn = dfnew.groupby(['SeniorCitizen','Churn']).size().unstack()\n",
    "\n",
    "ax = (contract_churn.T*100.0 / contract_churn.T.sum()).T.plot(kind='bar',\n",
    "                                                                width = 0.3,\n",
    "                                                                rot = 0, \n",
    "                                                                figsize = (10,6))\n",
    "\n",
    "ax.set_ylabel('% Customers',size = 14)\n",
    "ax.set_title('Churn by SeniorCitizen',size = 14)"
   ]
  },
  {
   "cell_type": "markdown",
   "id": "boolean-highland",
   "metadata": {},
   "source": [
    "#### 60% of Senior citizens do not use Telecome product and 40% of them use. In Young customers, 76% do not use the product and 24% do."
   ]
  },
  {
   "cell_type": "code",
   "execution_count": 167,
   "id": "banned-estate",
   "metadata": {},
   "outputs": [
    {
     "data": {
      "text/plain": [
       "Text(0.5, 1.0, 'Churn by Partner')"
      ]
     },
     "execution_count": 167,
     "metadata": {},
     "output_type": "execute_result"
    },
    {
     "data": {
      "image/png": "[encoded data removed]",
      "text/plain": [
       "<Figure size 720x432 with 1 Axes>"
      ]
     },
     "metadata": {
      "needs_background": "light"
     },
     "output_type": "display_data"
    }
   ],
   "source": [
    "contract_churn = dfnew.groupby(['Partner','Churn']).size().unstack()\n",
    "\n",
    "ax = (contract_churn.T*100.0 / contract_churn.T.sum()).T.plot(kind='bar',\n",
    "                                                                width = 0.3,\n",
    "                                                                rot = 0, \n",
    "                                                                figsize = (10,6))\n",
    "\n",
    "ax.set_ylabel('% Customers',size = 14)\n",
    "ax.set_title('Churn by Partner',size = 14)"
   ]
  },
  {
   "cell_type": "markdown",
   "id": "amazing-jewelry",
   "metadata": {},
   "source": [
    "#### Out of all customerswho are Partners 80% do not use product and 20% do. In non-partners, 67% do not use product and 33% do use it."
   ]
  },
  {
   "cell_type": "code",
   "execution_count": 169,
   "id": "textile-olympus",
   "metadata": {},
   "outputs": [
    {
     "data": {
      "image/png": "[encoded data removed]",
      "text/plain": [
       "<Figure size 1224x504 with 1 Axes>"
      ]
     },
     "metadata": {
      "needs_background": "light"
     },
     "output_type": "display_data"
    }
   ],
   "source": [
    "plt.figure(figsize=(17,7))\n",
    "sns.boxplot(x='Churn', y='tenure', data= dfnew)\n",
    "plt.show()"
   ]
  },
  {
   "cell_type": "markdown",
   "id": "expressed-tooth",
   "metadata": {},
   "source": [
    "#### For customers who do not use telecome product now, have normally distributed tenure. But for customers who use product now, tenure is right sckewed with upto 5 outliers."
   ]
  },
  {
   "cell_type": "code",
   "execution_count": 170,
   "id": "fluid-interpretation",
   "metadata": {},
   "outputs": [
    {
     "data": {
      "image/png": "[encoded data removed]",
      "text/plain": [
       "<Figure size 1224x504 with 1 Axes>"
      ]
     },
     "metadata": {
      "needs_background": "light"
     },
     "output_type": "display_data"
    }
   ],
   "source": [
    "plt.figure(figsize=(17,7))\n",
    "sns.boxplot(x='Churn', y='MonthlyCharges', data= dfnew)\n",
    "plt.show()"
   ]
  },
  {
   "cell_type": "markdown",
   "id": "persistent-cancer",
   "metadata": {},
   "source": [
    "#### Monthly charges have normally distributed data over churn or non churn customers, with one outright outlier. "
   ]
  },
  {
   "cell_type": "code",
   "execution_count": 171,
   "id": "mounted-snapshot",
   "metadata": {},
   "outputs": [
    {
     "data": {
      "image/png": "[encoded data removed]",
      "text/plain": [
       "<Figure size 1224x504 with 1 Axes>"
      ]
     },
     "metadata": {
      "needs_background": "light"
     },
     "output_type": "display_data"
    }
   ],
   "source": [
    "plt.figure(figsize=(17,7))\n",
    "sns.boxplot(x='Churn', y='TotalCharges', data= dfnew)\n",
    "plt.show()"
   ]
  },
  {
   "cell_type": "markdown",
   "id": "artificial-community",
   "metadata": {},
   "source": [
    "#### For customers who do not use telecome product now, have normally distributed(slightly right sckewed) tenure. But for customers who use product now, tenure is right sckewed with multiple outliers."
   ]
  },
  {
   "cell_type": "markdown",
   "id": "dress-compression",
   "metadata": {},
   "source": [
    "# Multivariate Analysis"
   ]
  },
  {
   "cell_type": "code",
   "execution_count": 172,
   "id": "civic-bunny",
   "metadata": {},
   "outputs": [
    {
     "data": {
      "image/png": "[encoded data removed]",
      "text/plain": [
       "<Figure size 900x900 with 30 Axes>"
      ]
     },
     "metadata": {
      "needs_background": "light"
     },
     "output_type": "display_data"
    }
   ],
   "source": [
    "sns.pairplot(dfnew)\n",
    "plt.show()"
   ]
  },
  {
   "cell_type": "code",
   "execution_count": 173,
   "id": "based-dream",
   "metadata": {},
   "outputs": [
    {
     "data": {
      "image/png": "[encoded data removed]",
      "text/plain": [
       "<Figure size 792x792 with 1 Axes>"
      ]
     },
     "metadata": {
      "needs_background": "light"
     },
     "output_type": "display_data"
    }
   ],
   "source": [
    "def plot_corr(dfnew, size=11):\n",
    "    corr = dfnew.corr()\n",
    "    fig, ax = plt.subplots(figsize=(size, size))\n",
    "    ax.matshow(corr)\n",
    "    plt.xticks(range(len(corr.columns)), corr.columns)\n",
    "    plt.yticks(range(len(corr.columns)), corr.columns)\n",
    "\n",
    "plot_corr(dfnew)"
   ]
  },
  {
   "cell_type": "markdown",
   "id": "surrounded-deviation",
   "metadata": {},
   "source": [
    "#### According to correlation and pair plot, there is no correlation between the attributes and churn. "
   ]
  },
  {
   "cell_type": "markdown",
   "id": "discrete-trance",
   "metadata": {},
   "source": [
    "# Data pre-processing"
   ]
  },
  {
   "cell_type": "code",
   "execution_count": 181,
   "id": "pretty-spring",
   "metadata": {},
   "outputs": [],
   "source": [
    "columns=['tenure','MonthlyCharges','TotalCharges']"
   ]
  },
  {
   "cell_type": "code",
   "execution_count": 193,
   "id": "indonesian-workshop",
   "metadata": {},
   "outputs": [
    {
     "name": "stdout",
     "output_type": "stream",
     "text": [
      "[]\n"
     ]
    }
   ],
   "source": [
    "from decimal import Decimal\n",
    "outliers = []\n",
    "for c in columns:\n",
    "    Q3 = np.percentile(df_dummies[c],75.0)\n",
    "    Q1 = np.percentile(df_dummies[c],25.0)\n",
    "    IQR = Q3 - Q1\n",
    "    Threshold = IQR*1.5\n",
    "    uf = Q3 + Threshold\n",
    "    lf = Q1 - Threshold\n",
    "    dfwoO = df_dummies.loc[(df_dummies[c] >= lf) & (df_dummies[c] <= uf)]\n",
    "    mean= dfwoO[c].mean()\n",
    "    df_dummies[c]=np.where(df_dummies[c]>uf,mean,df_dummies[c])\n",
    "    df_dummies[c]=np.where(df_dummies[c]<lf,mean,df_dummies[c])\n",
    "    #checking if there are any outliers remaining\n",
    "    for i in df_dummies[c]:\n",
    "        if i < lf or i > uf:\n",
    "           outliers.append(i)\n",
    "        \n",
    "print(outliers)"
   ]
  },
  {
   "cell_type": "code",
   "execution_count": 192,
   "id": "medieval-moderator",
   "metadata": {},
   "outputs": [
    {
     "name": "stderr",
     "output_type": "stream",
     "text": [
      "c:\\python\\lib\\site-packages\\seaborn\\_decorators.py:43: FutureWarning: Pass the following variable as a keyword arg: x. From version 0.12, the only valid positional argument will be `data`, and passing other arguments without an explicit keyword will result in an error or misinterpretation.\n",
      "  FutureWarning\n"
     ]
    },
    {
     "data": {
      "image/png": "[encoded data removed]",
      "text/plain": [
       "<Figure size 432x288 with 1 Axes>"
      ]
     },
     "metadata": {
      "needs_background": "light"
     },
     "output_type": "display_data"
    }
   ],
   "source": [
    "#Target variable distribution\n",
    "sns.countplot('Churn',data=dfnew)\n",
    "plt.show()"
   ]
  },
  {
   "cell_type": "markdown",
   "id": "intellectual-portland",
   "metadata": {},
   "source": [
    "### Target variable does not seem to be balanced. We will balance the training data after split. "
   ]
  },
  {
   "cell_type": "code",
   "execution_count": 418,
   "id": "right-stroke",
   "metadata": {},
   "outputs": [],
   "source": [
    "df_dummies=df_dummies.drop(['gender_Male','Partner_No','Dependents_No','PhoneService_No','MultipleLines_No','InternetService_No','OnlineSecurity_No','OnlineBackup_No','DeviceProtection_No','TechSupport_No','StreamingTV_No','StreamingMovies_No','PaperlessBilling_No','Contract_Month-to-month','PaymentMethod_Mailed check'], axis=1)"
   ]
  },
  {
   "cell_type": "code",
   "execution_count": 225,
   "id": "paperback-charger",
   "metadata": {},
   "outputs": [
    {
     "data": {
      "text/plain": [
       "SeniorCitizen                              3616\n",
       "tenure                                     3616\n",
       "MonthlyCharges                             3616\n",
       "TotalCharges                               3616\n",
       "Churn                                      3616\n",
       "gender_Female                              3616\n",
       "Partner_Yes                                3616\n",
       "Dependents_Yes                             3616\n",
       "PhoneService_Yes                           3616\n",
       "MultipleLines_No phone service             3616\n",
       "MultipleLines_Yes                          3616\n",
       "InternetService_DSL                        3616\n",
       "InternetService_Fiber optic                3616\n",
       "OnlineSecurity_No internet service         3616\n",
       "OnlineSecurity_Yes                         3616\n",
       "OnlineBackup_No internet service           3616\n",
       "OnlineBackup_Yes                           3616\n",
       "DeviceProtection_No internet service       3616\n",
       "DeviceProtection_Yes                       3616\n",
       "TechSupport_No internet service            3616\n",
       "TechSupport_Yes                            3616\n",
       "StreamingTV_No internet service            3616\n",
       "StreamingTV_Yes                            3616\n",
       "StreamingMovies_No internet service        3616\n",
       "StreamingMovies_Yes                        3616\n",
       "Contract_One year                          3616\n",
       "Contract_Two year                          3616\n",
       "PaperlessBilling_Yes                       3616\n",
       "PaymentMethod_Bank transfer (automatic)    3616\n",
       "PaymentMethod_Credit card (automatic)      3616\n",
       "PaymentMethod_Electronic check             3616\n",
       "dtype: int64"
      ]
     },
     "execution_count": 225,
     "metadata": {},
     "output_type": "execute_result"
    }
   ],
   "source": [
    "#training data\n",
    "df_new1 = df_dummies.iloc[:4900, :]\n",
    "df_new1[df_new1.Churn == 0].count()"
   ]
  },
  {
   "cell_type": "code",
   "execution_count": 226,
   "id": "median-louisiana",
   "metadata": {},
   "outputs": [],
   "source": [
    "#testing data\n",
    "df_new2 = df_dummies.iloc[4901:, :]"
   ]
  },
  {
   "cell_type": "code",
   "execution_count": 227,
   "id": "dried-replica",
   "metadata": {},
   "outputs": [
    {
     "data": {
      "text/plain": [
       "1    3616\n",
       "0    3616\n",
       "Name: Churn, dtype: int64"
      ]
     },
     "execution_count": 227,
     "metadata": {},
     "output_type": "execute_result"
    }
   ],
   "source": [
    "from sklearn.utils import resample\n",
    "df_majority = df_new1[df_new1.Churn == 0]\n",
    "df_minority = df_new1[df_new1.Churn == 1]\n",
    "\n",
    "df_min = resample(df_minority, replace = True, n_samples=3616,random_state=123)\n",
    "\n",
    "df_balanced = pd.concat([df_majority, df_min])\n",
    "\n",
    "df_balanced.Churn.value_counts()"
   ]
  },
  {
   "cell_type": "code",
   "execution_count": 231,
   "id": "timely-maintenance",
   "metadata": {},
   "outputs": [],
   "source": [
    "x_train = df_balanced.drop('Churn', axis = 1)\n",
    "y_train = df_balanced['Churn']"
   ]
  },
  {
   "cell_type": "code",
   "execution_count": 232,
   "id": "tired-assignment",
   "metadata": {},
   "outputs": [],
   "source": [
    "x_test = df_new2.drop('Churn', axis = 1)\n",
    "y_test = df_new2['Churn']"
   ]
  },
  {
   "cell_type": "code",
   "execution_count": 233,
   "id": "bizarre-criterion",
   "metadata": {},
   "outputs": [
    {
     "name": "stdout",
     "output_type": "stream",
     "text": [
      "<class 'pandas.core.frame.DataFrame'>\n",
      "Int64Index: 7232 entries, 0 to 3834\n",
      "Data columns (total 30 columns):\n",
      " #   Column                                   Non-Null Count  Dtype  \n",
      "---  ------                                   --------------  -----  \n",
      " 0   SeniorCitizen                            7232 non-null   int64  \n",
      " 1   tenure                                   7232 non-null   float64\n",
      " 2   MonthlyCharges                           7232 non-null   float32\n",
      " 3   TotalCharges                             7232 non-null   float64\n",
      " 4   gender_Female                            7232 non-null   uint8  \n",
      " 5   Partner_Yes                              7232 non-null   uint8  \n",
      " 6   Dependents_Yes                           7232 non-null   uint8  \n",
      " 7   PhoneService_Yes                         7232 non-null   uint8  \n",
      " 8   MultipleLines_No phone service           7232 non-null   uint8  \n",
      " 9   MultipleLines_Yes                        7232 non-null   uint8  \n",
      " 10  InternetService_DSL                      7232 non-null   uint8  \n",
      " 11  InternetService_Fiber optic              7232 non-null   uint8  \n",
      " 12  OnlineSecurity_No internet service       7232 non-null   uint8  \n",
      " 13  OnlineSecurity_Yes                       7232 non-null   uint8  \n",
      " 14  OnlineBackup_No internet service         7232 non-null   uint8  \n",
      " 15  OnlineBackup_Yes                         7232 non-null   uint8  \n",
      " 16  DeviceProtection_No internet service     7232 non-null   uint8  \n",
      " 17  DeviceProtection_Yes                     7232 non-null   uint8  \n",
      " 18  TechSupport_No internet service          7232 non-null   uint8  \n",
      " 19  TechSupport_Yes                          7232 non-null   uint8  \n",
      " 20  StreamingTV_No internet service          7232 non-null   uint8  \n",
      " 21  StreamingTV_Yes                          7232 non-null   uint8  \n",
      " 22  StreamingMovies_No internet service      7232 non-null   uint8  \n",
      " 23  StreamingMovies_Yes                      7232 non-null   uint8  \n",
      " 24  Contract_One year                        7232 non-null   uint8  \n",
      " 25  Contract_Two year                        7232 non-null   uint8  \n",
      " 26  PaperlessBilling_Yes                     7232 non-null   uint8  \n",
      " 27  PaymentMethod_Bank transfer (automatic)  7232 non-null   uint8  \n",
      " 28  PaymentMethod_Credit card (automatic)    7232 non-null   uint8  \n",
      " 29  PaymentMethod_Electronic check           7232 non-null   uint8  \n",
      "dtypes: float32(1), float64(2), int64(1), uint8(26)\n",
      "memory usage: 437.9 KB\n"
     ]
    }
   ],
   "source": [
    "x_train.info()"
   ]
  },
  {
   "cell_type": "code",
   "execution_count": 276,
   "id": "collective-stream",
   "metadata": {},
   "outputs": [
    {
     "name": "stdout",
     "output_type": "stream",
     "text": [
      "<class 'pandas.core.frame.DataFrame'>\n",
      "RangeIndex: 2142 entries, 4901 to 7042\n",
      "Data columns (total 30 columns):\n",
      " #   Column                                   Non-Null Count  Dtype  \n",
      "---  ------                                   --------------  -----  \n",
      " 0   SeniorCitizen                            2142 non-null   int64  \n",
      " 1   tenure                                   2142 non-null   float64\n",
      " 2   MonthlyCharges                           2142 non-null   float32\n",
      " 3   TotalCharges                             2142 non-null   float64\n",
      " 4   gender_Female                            2142 non-null   uint8  \n",
      " 5   Partner_Yes                              2142 non-null   uint8  \n",
      " 6   Dependents_Yes                           2142 non-null   uint8  \n",
      " 7   PhoneService_Yes                         2142 non-null   uint8  \n",
      " 8   MultipleLines_No phone service           2142 non-null   uint8  \n",
      " 9   MultipleLines_Yes                        2142 non-null   uint8  \n",
      " 10  InternetService_DSL                      2142 non-null   uint8  \n",
      " 11  InternetService_Fiber optic              2142 non-null   uint8  \n",
      " 12  OnlineSecurity_No internet service       2142 non-null   uint8  \n",
      " 13  OnlineSecurity_Yes                       2142 non-null   uint8  \n",
      " 14  OnlineBackup_No internet service         2142 non-null   uint8  \n",
      " 15  OnlineBackup_Yes                         2142 non-null   uint8  \n",
      " 16  DeviceProtection_No internet service     2142 non-null   uint8  \n",
      " 17  DeviceProtection_Yes                     2142 non-null   uint8  \n",
      " 18  TechSupport_No internet service          2142 non-null   uint8  \n",
      " 19  TechSupport_Yes                          2142 non-null   uint8  \n",
      " 20  StreamingTV_No internet service          2142 non-null   uint8  \n",
      " 21  StreamingTV_Yes                          2142 non-null   uint8  \n",
      " 22  StreamingMovies_No internet service      2142 non-null   uint8  \n",
      " 23  StreamingMovies_Yes                      2142 non-null   uint8  \n",
      " 24  Contract_One year                        2142 non-null   uint8  \n",
      " 25  Contract_Two year                        2142 non-null   uint8  \n",
      " 26  PaperlessBilling_Yes                     2142 non-null   uint8  \n",
      " 27  PaymentMethod_Bank transfer (automatic)  2142 non-null   uint8  \n",
      " 28  PaymentMethod_Credit card (automatic)    2142 non-null   uint8  \n",
      " 29  PaymentMethod_Electronic check           2142 non-null   uint8  \n",
      "dtypes: float32(1), float64(2), int64(1), uint8(26)\n",
      "memory usage: 113.1 KB\n"
     ]
    }
   ],
   "source": [
    "x_test.info()"
   ]
  },
  {
   "cell_type": "markdown",
   "id": "favorite-philip",
   "metadata": {},
   "source": [
    "### Both training and testing data have same characteristics "
   ]
  },
  {
   "cell_type": "markdown",
   "id": "civilian-extent",
   "metadata": {},
   "source": [
    "# Modeling"
   ]
  },
  {
   "cell_type": "markdown",
   "id": "modular-white",
   "metadata": {},
   "source": [
    "## 1. Decision Tree Classifier "
   ]
  },
  {
   "cell_type": "code",
   "execution_count": 241,
   "id": "understood-edmonton",
   "metadata": {},
   "outputs": [
    {
     "data": {
      "text/plain": [
       "DecisionTreeClassifier(random_state=1)"
      ]
     },
     "execution_count": 241,
     "metadata": {},
     "output_type": "execute_result"
    }
   ],
   "source": [
    "from sklearn.tree import DecisionTreeClassifier\n",
    "\n",
    "dTree = DecisionTreeClassifier(criterion = 'gini', random_state=1)\n",
    "dTree.fit(x_train, y_train)"
   ]
  },
  {
   "cell_type": "code",
   "execution_count": 242,
   "id": "tracked-touch",
   "metadata": {},
   "outputs": [
    {
     "name": "stdout",
     "output_type": "stream",
     "text": [
      "0.9988938053097345\n",
      "0.7259570494864612\n"
     ]
    }
   ],
   "source": [
    "print(dTree.score(x_train, y_train))\n",
    "print(dTree.score(x_test, y_test))"
   ]
  },
  {
   "cell_type": "code",
   "execution_count": 243,
   "id": "comparable-austin",
   "metadata": {},
   "outputs": [],
   "source": [
    "from sklearn.tree import export_graphviz\n",
    "\n",
    "train_char_label = ['No', 'Yes']\n",
    "Credit_Tree_File = open('credit_tree.dot','w')\n",
    "dot_data = export_graphviz(dTree, out_file=Credit_Tree_File, feature_names = list(x_train), class_names = list(train_char_label))\n",
    "Credit_Tree_File.close()"
   ]
  },
  {
   "cell_type": "code",
   "execution_count": null,
   "id": "laughing-publicity",
   "metadata": {},
   "outputs": [],
   "source": [
    "from os import system\n",
    "from IPython.display import Image\n",
    "\n",
    "#Works only if \"dot\" command works on you machine\n",
    "\n",
    "retCode = system(\"dot -Tpng credit_tree.dot -o credit_tree.png\")\n",
    "if(retCode>0):\n",
    "    print(\"system command returning error: \"+str(retCode))\n",
    "else:\n",
    "    display(Image(\"credit_tree.png\"))"
   ]
  },
  {
   "cell_type": "code",
   "execution_count": 244,
   "id": "experimental-civilian",
   "metadata": {},
   "outputs": [
    {
     "name": "stdout",
     "output_type": "stream",
     "text": [
      "0.760370575221239\n",
      "0.7521008403361344\n"
     ]
    }
   ],
   "source": [
    "dTreeR = DecisionTreeClassifier(criterion = 'gini', max_depth = 5, random_state=1)\n",
    "dTreeR.fit(x_train, y_train)\n",
    "print(dTreeR.score(x_train, y_train))\n",
    "print(dTreeR.score(x_test, y_test))"
   ]
  },
  {
   "cell_type": "code",
   "execution_count": 247,
   "id": "african-ghana",
   "metadata": {},
   "outputs": [
    {
     "name": "stdout",
     "output_type": "stream",
     "text": [
      "                                              Imp\n",
      "SeniorCitizen                            0.001415\n",
      "tenure                                   0.107684\n",
      "MonthlyCharges                           0.019126\n",
      "TotalCharges                             0.015959\n",
      "gender_Female                            0.000000\n",
      "Partner_Yes                              0.000000\n",
      "Dependents_Yes                           0.000000\n",
      "PhoneService_Yes                         0.000000\n",
      "MultipleLines_No phone service           0.000000\n",
      "MultipleLines_Yes                        0.000000\n",
      "InternetService_DSL                      0.000000\n",
      "InternetService_Fiber optic              0.114394\n",
      "OnlineSecurity_No internet service       0.000000\n",
      "OnlineSecurity_Yes                       0.000000\n",
      "OnlineBackup_No internet service         0.000000\n",
      "OnlineBackup_Yes                         0.000000\n",
      "DeviceProtection_No internet service     0.000000\n",
      "DeviceProtection_Yes                     0.000000\n",
      "TechSupport_No internet service          0.000000\n",
      "TechSupport_Yes                          0.000000\n",
      "StreamingTV_No internet service          0.000000\n",
      "StreamingTV_Yes                          0.000000\n",
      "StreamingMovies_No internet service      0.000000\n",
      "StreamingMovies_Yes                      0.037738\n",
      "Contract_One year                        0.268102\n",
      "Contract_Two year                        0.434232\n",
      "PaperlessBilling_Yes                     0.000000\n",
      "PaymentMethod_Bank transfer (automatic)  0.000000\n",
      "PaymentMethod_Credit card (automatic)    0.000000\n",
      "PaymentMethod_Electronic check           0.001348\n"
     ]
    }
   ],
   "source": [
    "# importance of features in the tree building ( The importance of a feature is computed as the \n",
    "#(normalized) total reduction of the criterion brought by that feature. It is also known as the Gini importance )\n",
    "\n",
    "print (pd.DataFrame(dTreeR.feature_importances_, columns = [\"Imp\"], index = x_train.columns))"
   ]
  },
  {
   "cell_type": "markdown",
   "id": "focused-science",
   "metadata": {},
   "source": [
    "#### For DecisionTreeClassifier, tenure, InternetService_Fiber optic,Contract_One year, Contract_Two year are the most important predictor variables to predict churn."
   ]
  },
  {
   "cell_type": "code",
   "execution_count": 248,
   "id": "mineral-dakota",
   "metadata": {},
   "outputs": [
    {
     "name": "stdout",
     "output_type": "stream",
     "text": [
      "0.7525676937441643\n"
     ]
    },
    {
     "data": {
      "text/plain": [
       "<AxesSubplot:>"
      ]
     },
     "execution_count": 248,
     "metadata": {},
     "output_type": "execute_result"
    },
    {
     "data": {
      "image/png": "[encoded data removed]",
      "text/plain": [
       "<Figure size 504x360 with 2 Axes>"
      ]
     },
     "metadata": {
      "needs_background": "light"
     },
     "output_type": "display_data"
    }
   ],
   "source": [
    "from sklearn.metrics import confusion_matrix\n",
    "import seaborn as sns\n",
    "\n",
    "print(dTreeR.score(x_test , y_test))\n",
    "y_predict = dTreeR.predict(x_test)\n",
    "\n",
    "cm = confusion_matrix(y_test, y_predict, labels=[0, 1])\n",
    "\n",
    "df_cm = pd.DataFrame(cm, index = [i for i in [\"No\",\"Yes\"]],\n",
    "                  columns = [i for i in [\"No\",\"Yes\"]])\n",
    "plt.figure(figsize = (7,5))\n",
    "sns.heatmap(df_cm, annot=True ,fmt='g')"
   ]
  },
  {
   "cell_type": "markdown",
   "id": "threaded-lover",
   "metadata": {},
   "source": [
    "## 2. Bagging Classifier "
   ]
  },
  {
   "cell_type": "code",
   "execution_count": 250,
   "id": "talented-hunger",
   "metadata": {},
   "outputs": [],
   "source": [
    "from sklearn.ensemble import BaggingClassifier\n",
    "\n",
    "bgcl = BaggingClassifier(base_estimator=dTree, n_estimators=50,random_state=1)\n",
    "#bgcl = BaggingClassifier(n_estimators=50,random_state=1)\n",
    "\n",
    "bgcl = bgcl.fit(x_train, y_train)"
   ]
  },
  {
   "cell_type": "code",
   "execution_count": 251,
   "id": "confirmed-platinum",
   "metadata": {},
   "outputs": [
    {
     "name": "stdout",
     "output_type": "stream",
     "text": [
      "0.7712418300653595\n"
     ]
    },
    {
     "data": {
      "text/plain": [
       "<AxesSubplot:>"
      ]
     },
     "execution_count": 251,
     "metadata": {},
     "output_type": "execute_result"
    },
    {
     "data": {
      "image/png": "[encoded data removed]",
      "text/plain": [
       "<Figure size 504x360 with 2 Axes>"
      ]
     },
     "metadata": {
      "needs_background": "light"
     },
     "output_type": "display_data"
    }
   ],
   "source": [
    "from sklearn.metrics import confusion_matrix\n",
    "\n",
    "y_predict = bgcl.predict(x_test)\n",
    "\n",
    "print(bgcl.score(x_test , y_test))\n",
    "\n",
    "cm=confusion_matrix(y_test, y_predict,labels=[0, 1])\n",
    "\n",
    "df_cm = pd.DataFrame(cm, index = [i for i in [\"No\",\"Yes\"]],\n",
    "                  columns = [i for i in [\"No\",\"Yes\"]])\n",
    "plt.figure(figsize = (7,5))\n",
    "sns.heatmap(df_cm, annot=True ,fmt='g')"
   ]
  },
  {
   "cell_type": "markdown",
   "id": "similar-demand",
   "metadata": {},
   "source": [
    "## 3. Random Forest Classifier "
   ]
  },
  {
   "cell_type": "code",
   "execution_count": 260,
   "id": "olive-chester",
   "metadata": {},
   "outputs": [],
   "source": [
    "from sklearn.ensemble import RandomForestClassifier\n",
    "rfcl = RandomForestClassifier(n_estimators=1000 , oob_score = True, n_jobs = -1,\n",
    "                                  random_state =50, max_features = \"auto\",\n",
    "                                  max_leaf_nodes = 30)\n",
    "rfcl = rfcl.fit(x_train, y_train)"
   ]
  },
  {
   "cell_type": "code",
   "execution_count": 261,
   "id": "amended-ethernet",
   "metadata": {},
   "outputs": [
    {
     "name": "stdout",
     "output_type": "stream",
     "text": [
      "0.7665732959850607\n"
     ]
    },
    {
     "data": {
      "text/plain": [
       "<AxesSubplot:>"
      ]
     },
     "execution_count": 261,
     "metadata": {},
     "output_type": "execute_result"
    },
    {
     "data": {
      "image/png": "[encoded data removed]",
      "text/plain": [
       "<Figure size 504x360 with 2 Axes>"
      ]
     },
     "metadata": {
      "needs_background": "light"
     },
     "output_type": "display_data"
    }
   ],
   "source": [
    "y_predict = rfcl.predict(x_test)\n",
    "print(rfcl.score(x_test, y_test))\n",
    "cm=confusion_matrix(y_test, y_predict,labels=[0, 1])\n",
    "\n",
    "df_cm = pd.DataFrame(cm, index = [i for i in [\"No\",\"Yes\"]],\n",
    "                  columns = [i for i in [\"No\",\"Yes\"]])\n",
    "plt.figure(figsize = (7,5))\n",
    "sns.heatmap(df_cm, annot=True ,fmt='g')"
   ]
  },
  {
   "cell_type": "code",
   "execution_count": 266,
   "id": "affecting-appeal",
   "metadata": {},
   "outputs": [
    {
     "name": "stdout",
     "output_type": "stream",
     "text": [
      "                                              Imp\n",
      "SeniorCitizen                            0.004527\n",
      "tenure                                   0.183609\n",
      "MonthlyCharges                           0.049935\n",
      "TotalCharges                             0.115360\n",
      "gender_Female                            0.002236\n",
      "Partner_Yes                              0.004887\n",
      "Dependents_Yes                           0.004173\n",
      "PhoneService_Yes                         0.001727\n",
      "MultipleLines_No phone service           0.001857\n",
      "MultipleLines_Yes                        0.003637\n",
      "InternetService_DSL                      0.031677\n",
      "InternetService_Fiber optic              0.089847\n",
      "OnlineSecurity_No internet service       0.026958\n",
      "OnlineSecurity_Yes                       0.034118\n",
      "OnlineBackup_No internet service         0.027019\n",
      "OnlineBackup_Yes                         0.006104\n",
      "DeviceProtection_No internet service     0.028260\n",
      "DeviceProtection_Yes                     0.005226\n",
      "TechSupport_No internet service          0.028411\n",
      "TechSupport_Yes                          0.036995\n",
      "StreamingTV_No internet service          0.022829\n",
      "StreamingTV_Yes                          0.004285\n",
      "StreamingMovies_No internet service      0.025052\n",
      "StreamingMovies_Yes                      0.003337\n",
      "Contract_One year                        0.038758\n",
      "Contract_Two year                        0.138073\n",
      "PaperlessBilling_Yes                     0.007652\n",
      "PaymentMethod_Bank transfer (automatic)  0.002415\n",
      "PaymentMethod_Credit card (automatic)    0.005105\n",
      "PaymentMethod_Electronic check           0.065931\n"
     ]
    }
   ],
   "source": [
    "print (pd.DataFrame(rfcl.feature_importances_, columns = [\"Imp\"], index = x_train.columns))"
   ]
  },
  {
   "cell_type": "markdown",
   "id": "jewish-murray",
   "metadata": {},
   "source": [
    "#### From random forest algorithm, 2 year contract, tenure and total charges are the most important predictor variables to predict churn. The results from random forest are very similar to that of the logistic regression and in line to what we had expected from our EDA."
   ]
  },
  {
   "cell_type": "markdown",
   "id": "nasty-morgan",
   "metadata": {},
   "source": [
    "## 4. AdaBoost Classifier "
   ]
  },
  {
   "cell_type": "code",
   "execution_count": 254,
   "id": "brief-multiple",
   "metadata": {},
   "outputs": [],
   "source": [
    "from sklearn.ensemble import AdaBoostClassifier\n",
    "#abcl = AdaBoostClassifier(n_estimators=10, random_state=1)\n",
    "abcl = AdaBoostClassifier( n_estimators=50,random_state=1)\n",
    "abcl = abcl.fit(x_train, y_train)"
   ]
  },
  {
   "cell_type": "code",
   "execution_count": 255,
   "id": "younger-database",
   "metadata": {},
   "outputs": [
    {
     "name": "stdout",
     "output_type": "stream",
     "text": [
      "0.7595704948646125\n"
     ]
    },
    {
     "data": {
      "text/plain": [
       "<AxesSubplot:>"
      ]
     },
     "execution_count": 255,
     "metadata": {},
     "output_type": "execute_result"
    },
    {
     "data": {
      "image/png": "[encoded data removed]",
      "text/plain": [
       "<Figure size 504x360 with 2 Axes>"
      ]
     },
     "metadata": {
      "needs_background": "light"
     },
     "output_type": "display_data"
    }
   ],
   "source": [
    "y_predict = abcl.predict(x_test)\n",
    "print(abcl.score(x_test , y_test))\n",
    "\n",
    "cm=confusion_matrix(y_test, y_predict,labels=[0, 1])\n",
    "\n",
    "df_cm = pd.DataFrame(cm, index = [i for i in [\"No\",\"Yes\"]],\n",
    "                  columns = [i for i in [\"No\",\"Yes\"]])\n",
    "plt.figure(figsize = (7,5))\n",
    "sns.heatmap(df_cm, annot=True ,fmt='g')"
   ]
  },
  {
   "cell_type": "code",
   "execution_count": 268,
   "id": "improved-shoot",
   "metadata": {},
   "outputs": [
    {
     "name": "stdout",
     "output_type": "stream",
     "text": [
      "                                          Imp\n",
      "SeniorCitizen                            0.02\n",
      "tenure                                   0.16\n",
      "MonthlyCharges                           0.08\n",
      "TotalCharges                             0.36\n",
      "gender_Female                            0.00\n",
      "Partner_Yes                              0.00\n",
      "Dependents_Yes                           0.00\n",
      "PhoneService_Yes                         0.00\n",
      "MultipleLines_No phone service           0.00\n",
      "MultipleLines_Yes                        0.02\n",
      "InternetService_DSL                      0.02\n",
      "InternetService_Fiber optic              0.02\n",
      "OnlineSecurity_No internet service       0.00\n",
      "OnlineSecurity_Yes                       0.02\n",
      "OnlineBackup_No internet service         0.02\n",
      "OnlineBackup_Yes                         0.00\n",
      "DeviceProtection_No internet service     0.00\n",
      "DeviceProtection_Yes                     0.00\n",
      "TechSupport_No internet service          0.02\n",
      "TechSupport_Yes                          0.02\n",
      "StreamingTV_No internet service          0.00\n",
      "StreamingTV_Yes                          0.02\n",
      "StreamingMovies_No internet service      0.00\n",
      "StreamingMovies_Yes                      0.02\n",
      "Contract_One year                        0.06\n",
      "Contract_Two year                        0.08\n",
      "PaperlessBilling_Yes                     0.02\n",
      "PaymentMethod_Bank transfer (automatic)  0.02\n",
      "PaymentMethod_Credit card (automatic)    0.00\n",
      "PaymentMethod_Electronic check           0.02\n"
     ]
    }
   ],
   "source": [
    "print (pd.DataFrame(abcl.feature_importances_, columns = [\"Imp\"], index = x_train.columns))"
   ]
  },
  {
   "cell_type": "markdown",
   "id": "varying-lawrence",
   "metadata": {},
   "source": [
    "#### From AdaBoostClassifier, 2 year contract, tenure, monthly charges and total charges are the most important predictor variables to predict churn. The results from random forest are very similar to that of and in line to what we had expected from our EDA. "
   ]
  },
  {
   "cell_type": "markdown",
   "id": "listed-burden",
   "metadata": {},
   "source": [
    "## 5. Gradient Boost Classifier "
   ]
  },
  {
   "cell_type": "code",
   "execution_count": 256,
   "id": "floral-region",
   "metadata": {},
   "outputs": [],
   "source": [
    "from sklearn.ensemble import GradientBoostingClassifier\n",
    "gbcl = GradientBoostingClassifier(n_estimators = 50,random_state=1)\n",
    "gbcl = gbcl.fit(x_train, y_train)"
   ]
  },
  {
   "cell_type": "code",
   "execution_count": 257,
   "id": "optional-clause",
   "metadata": {},
   "outputs": [
    {
     "name": "stdout",
     "output_type": "stream",
     "text": [
      "0.7675070028011205\n"
     ]
    },
    {
     "data": {
      "text/plain": [
       "<AxesSubplot:>"
      ]
     },
     "execution_count": 257,
     "metadata": {},
     "output_type": "execute_result"
    },
    {
     "data": {
      "image/png": "[encoded data removed]",
      "text/plain": [
       "<Figure size 504x360 with 2 Axes>"
      ]
     },
     "metadata": {
      "needs_background": "light"
     },
     "output_type": "display_data"
    }
   ],
   "source": [
    "y_predict = gbcl.predict(x_test)\n",
    "print(gbcl.score(x_test, y_test))\n",
    "cm=confusion_matrix(y_test, y_predict,labels=[0, 1])\n",
    "\n",
    "df_cm = pd.DataFrame(cm, index = [i for i in [\"No\",\"Yes\"]],\n",
    "                  columns = [i for i in [\"No\",\"Yes\"]])\n",
    "plt.figure(figsize = (7,5))\n",
    "sns.heatmap(df_cm, annot=True ,fmt='g')"
   ]
  },
  {
   "cell_type": "code",
   "execution_count": 269,
   "id": "beneficial-lambda",
   "metadata": {},
   "outputs": [
    {
     "name": "stdout",
     "output_type": "stream",
     "text": [
      "                                              Imp\n",
      "SeniorCitizen                            0.010019\n",
      "tenure                                   0.260123\n",
      "MonthlyCharges                           0.024774\n",
      "TotalCharges                             0.047293\n",
      "gender_Female                            0.000765\n",
      "Partner_Yes                              0.001113\n",
      "Dependents_Yes                           0.000300\n",
      "PhoneService_Yes                         0.000861\n",
      "MultipleLines_No phone service           0.003132\n",
      "MultipleLines_Yes                        0.002139\n",
      "InternetService_DSL                      0.005755\n",
      "InternetService_Fiber optic              0.130508\n",
      "OnlineSecurity_No internet service       0.000875\n",
      "OnlineSecurity_Yes                       0.017763\n",
      "OnlineBackup_No internet service         0.026896\n",
      "OnlineBackup_Yes                         0.001169\n",
      "DeviceProtection_No internet service     0.015132\n",
      "DeviceProtection_Yes                     0.000221\n",
      "TechSupport_No internet service          0.027767\n",
      "TechSupport_Yes                          0.016859\n",
      "StreamingTV_No internet service          0.001505\n",
      "StreamingTV_Yes                          0.007685\n",
      "StreamingMovies_No internet service      0.000535\n",
      "StreamingMovies_Yes                      0.013373\n",
      "Contract_One year                        0.115093\n",
      "Contract_Two year                        0.212222\n",
      "PaperlessBilling_Yes                     0.008352\n",
      "PaymentMethod_Bank transfer (automatic)  0.000000\n",
      "PaymentMethod_Credit card (automatic)    0.001332\n",
      "PaymentMethod_Electronic check           0.046441\n"
     ]
    }
   ],
   "source": [
    "print (pd.DataFrame(gbcl.feature_importances_, columns = [\"Imp\"], index = x_train.columns))"
   ]
  },
  {
   "cell_type": "markdown",
   "id": "later-coral",
   "metadata": {},
   "source": [
    "#### From GradientBoostingClassifier, 2 year contract, 1 year contract, tenure, InternetService_Fiber optic  are the most important predictor variables to predict churn. The results from random forest, AdaBoostClassifier are very similar and in line to what we had expected from our EDA. "
   ]
  },
  {
   "cell_type": "markdown",
   "id": "separated-continuity",
   "metadata": {},
   "source": [
    "## 6. XGradient Boost Classifier "
   ]
  },
  {
   "cell_type": "code",
   "execution_count": 264,
   "id": "cosmetic-retirement",
   "metadata": {},
   "outputs": [
    {
     "name": "stderr",
     "output_type": "stream",
     "text": [
      "c:\\python\\lib\\site-packages\\xgboost\\sklearn.py:1146: UserWarning: The use of label encoder in XGBClassifier is deprecated and will be removed in a future release. To remove this warning, do the following: 1) Pass option use_label_encoder=False when constructing XGBClassifier object; and 2) Encode your labels (y) as integers starting with 0, i.e. 0, 1, 2, ..., [num_class - 1].\n",
      "  warnings.warn(label_encoder_deprecation_msg, UserWarning)\n"
     ]
    },
    {
     "name": "stdout",
     "output_type": "stream",
     "text": [
      "[11:47:26] WARNING: C:/Users/Administrator/workspace/xgboost-win64_release_1.4.0/src/learner.cc:1095: Starting in XGBoost 1.3.0, the default evaluation metric used with the objective 'binary:logistic' was changed from 'error' to 'logloss'. Explicitly set eval_metric if you'd like to restore the old behavior.\n"
     ]
    },
    {
     "data": {
      "text/plain": [
       "XGBClassifier(base_score=0.5, booster='gbtree', colsample_bylevel=1,\n",
       "              colsample_bynode=1, colsample_bytree=1, gamma=0, gpu_id=-1,\n",
       "              importance_type='gain', interaction_constraints='',\n",
       "              learning_rate=0.300000012, max_delta_step=0, max_depth=6,\n",
       "              min_child_weight=1, missing=nan, monotone_constraints='()',\n",
       "              n_estimators=100, n_jobs=8, num_parallel_tree=1, random_state=0,\n",
       "              reg_alpha=0, reg_lambda=1, scale_pos_weight=1, subsample=1,\n",
       "              tree_method='exact', validate_parameters=1, verbosity=None)"
      ]
     },
     "execution_count": 264,
     "metadata": {},
     "output_type": "execute_result"
    }
   ],
   "source": [
    "from xgboost import XGBClassifier\n",
    "model = XGBClassifier()\n",
    "model.fit(x_train, y_train)"
   ]
  },
  {
   "cell_type": "code",
   "execution_count": 265,
   "id": "temporal-vancouver",
   "metadata": {},
   "outputs": [
    {
     "name": "stdout",
     "output_type": "stream",
     "text": [
      "0.7787114845938375\n"
     ]
    },
    {
     "name": "stderr",
     "output_type": "stream",
     "text": [
      "c:\\python\\lib\\site-packages\\xgboost\\data.py:114: UserWarning: Use subset (sliced data) of np.ndarray is not recommended because it will generate extra copies and increase memory consumption\n",
      "  \"because it will generate extra copies and increase \" +\n"
     ]
    },
    {
     "data": {
      "text/plain": [
       "<AxesSubplot:>"
      ]
     },
     "execution_count": 265,
     "metadata": {},
     "output_type": "execute_result"
    },
    {
     "data": {
      "image/png": "[encoded data removed]",
      "text/plain": [
       "<Figure size 504x360 with 2 Axes>"
      ]
     },
     "metadata": {
      "needs_background": "light"
     },
     "output_type": "display_data"
    }
   ],
   "source": [
    "y_predict = model.predict(x_test)\n",
    "print(model.score(x_test, y_test))\n",
    "cm=confusion_matrix(y_test, y_predict,labels=[0, 1])\n",
    "\n",
    "df_cm = pd.DataFrame(cm, index = [i for i in [\"No\",\"Yes\"]],\n",
    "                  columns = [i for i in [\"No\",\"Yes\"]])\n",
    "plt.figure(figsize = (7,5))\n",
    "sns.heatmap(df_cm, annot=True ,fmt='g')"
   ]
  },
  {
   "cell_type": "code",
   "execution_count": 275,
   "id": "accompanied-sitting",
   "metadata": {},
   "outputs": [
    {
     "name": "stdout",
     "output_type": "stream",
     "text": [
      "                                              Imp\n",
      "SeniorCitizen                            0.010366\n",
      "tenure                                   0.016437\n",
      "MonthlyCharges                           0.011382\n",
      "TotalCharges                             0.011315\n",
      "gender_Female                            0.009318\n",
      "Partner_Yes                              0.006558\n",
      "Dependents_Yes                           0.007738\n",
      "PhoneService_Yes                         0.017298\n",
      "MultipleLines_No phone service           0.000000\n",
      "MultipleLines_Yes                        0.013363\n",
      "InternetService_DSL                      0.037248\n",
      "InternetService_Fiber optic              0.168281\n",
      "OnlineSecurity_No internet service       0.015728\n",
      "OnlineSecurity_Yes                       0.014623\n",
      "OnlineBackup_No internet service         0.000000\n",
      "OnlineBackup_Yes                         0.010220\n",
      "DeviceProtection_No internet service     0.000000\n",
      "DeviceProtection_Yes                     0.011040\n",
      "TechSupport_No internet service          0.000000\n",
      "TechSupport_Yes                          0.013045\n",
      "StreamingTV_No internet service          0.000000\n",
      "StreamingTV_Yes                          0.014257\n",
      "StreamingMovies_No internet service      0.000000\n",
      "StreamingMovies_Yes                      0.026671\n",
      "Contract_One year                        0.127815\n",
      "Contract_Two year                        0.412205\n",
      "PaperlessBilling_Yes                     0.012139\n",
      "PaymentMethod_Bank transfer (automatic)  0.010864\n",
      "PaymentMethod_Credit card (automatic)    0.009071\n",
      "PaymentMethod_Electronic check           0.013018\n"
     ]
    }
   ],
   "source": [
    "print (pd.DataFrame(model.feature_importances_, columns = [\"Imp\"], index = x_train.columns))"
   ]
  },
  {
   "cell_type": "markdown",
   "id": "cosmetic-bolivia",
   "metadata": {},
   "source": [
    "# GUI using tkinter"
   ]
  },
  {
   "cell_type": "code",
   "execution_count": 397,
   "id": "terminal-mercury",
   "metadata": {},
   "outputs": [
    {
     "name": "stderr",
     "output_type": "stream",
     "text": [
      "c:\\python\\lib\\site-packages\\xgboost\\data.py:114: UserWarning: Use subset (sliced data) of np.ndarray is not recommended because it will generate extra copies and increase memory consumption\n",
      "  \"because it will generate extra copies and increase \" +\n"
     ]
    }
   ],
   "source": [
    "from tkinter import *\n",
    "window= Tk()\n",
    "window.title('GUI')\n",
    "#window.geometry(\"400x400\")\n",
    "\n",
    "def show():\n",
    "    #customerID = ''.join(random.sample(string.ascii_letters, 8))\n",
    "    SeniorCitizen = clicked_sc.get()\n",
    "    tenure = text_t.get()\n",
    "    if not tenure:\n",
    "        tenure = 0\n",
    "    MonthlyCharges = text_mc.get()\n",
    "    if not MonthlyCharges:\n",
    "        MonthlyCharges = 0\n",
    "    TotalCharges = text_tc.get()\n",
    "    if not TotalCharges:\n",
    "        TotalCharges = 0\n",
    "    if clicked_gen.get() == 'Female':\n",
    "        gender = 1\n",
    "    else:\n",
    "        gender = 0\n",
    "    if clicked_p.get() == 'Yes':\n",
    "        partner = 1\n",
    "    else:\n",
    "        partner = 0\n",
    "    if clicked_d.get() == 'Yes':\n",
    "        dependents = 1\n",
    "    else:\n",
    "        dependents = 0\n",
    "    if clicked_ps.get() == 'Yes':\n",
    "        ps = 1\n",
    "    else:\n",
    "        ps = 0\n",
    "    mlnps = clicked_ml.get()\n",
    "    if mlnps == 'No phone service':\n",
    "        mlnps = 1\n",
    "        mly = 0\n",
    "    elif mlnps == 'Yes':\n",
    "        mlnps = 0\n",
    "        mly = 1\n",
    "    else:\n",
    "        mlnps = 0\n",
    "        mly = 0\n",
    "    isdsl=clicked_is.get()\n",
    "    if isdsl == 'DSL':\n",
    "        isdsl = 1\n",
    "        isfo = 0\n",
    "    elif mlnps == 'Yes':\n",
    "        isdsl = 0\n",
    "        isfo = 1\n",
    "    else:\n",
    "        isdsl = 0\n",
    "        isfo = 0\n",
    "    osnis =clicked_os.get()\n",
    "    if osnis == 'No internet service':\n",
    "        osnis = 1\n",
    "        osy = 0\n",
    "    elif osnis == 'Yes':\n",
    "        osnis = 0\n",
    "        osy = 1\n",
    "    else:\n",
    "        osnis = 0\n",
    "        osy = 0\n",
    "    obnis = clicked_ob.get()\n",
    "    if obnis == 'No internet service':\n",
    "        obnis = 1\n",
    "        oby = 0\n",
    "    elif obnis == 'Yes':\n",
    "        obnis = 0\n",
    "        oby = 1\n",
    "    else:\n",
    "        obnis = 0\n",
    "        oby = 0\n",
    "    dpnis = clicked_dp.get()\n",
    "    if dpnis == 'No internet service':\n",
    "        dpnis = 1\n",
    "        dpy = 0\n",
    "    elif dpnis == 'Yes':\n",
    "        dpnis = 0\n",
    "        dpy = 1\n",
    "    else:\n",
    "        dpnis = 0\n",
    "        dpy = 0\n",
    "    tsnis = clicked_ts.get()\n",
    "    if tsnis == 'No internet service':\n",
    "        tsnis = 1\n",
    "        tsy = 0\n",
    "    elif tsnis == 'Yes':\n",
    "        tsnis = 0\n",
    "        tsy = 1\n",
    "    else:\n",
    "        tsnis = 0\n",
    "        tsy = 0\n",
    "    stnis = clicked_st.get()\n",
    "    if stnis == 'No internet service':\n",
    "        stnis = 1\n",
    "        sty = 0\n",
    "    elif stnis == 'Yes':\n",
    "        stnis = 0\n",
    "        sty = 1\n",
    "    else:\n",
    "        stnis = 0\n",
    "        sty = 0\n",
    "    smnis = clicked_sm.get()\n",
    "    if smnis == 'No internet service':\n",
    "        smnis = 1\n",
    "        smy = 0\n",
    "    elif smnis == 'Yes':\n",
    "        smnis = 0\n",
    "        smy = 1\n",
    "    else:\n",
    "        smnis = 0\n",
    "        smy = 0\n",
    "    coy = clicked_c.get()\n",
    "    if coy == 'One year':\n",
    "        coy = 1\n",
    "        cty = 0\n",
    "    elif coy == 'Two year':\n",
    "        coy = 0\n",
    "        cty = 1\n",
    "    else:\n",
    "        coy = 0\n",
    "        cty = 0\n",
    "    if clicked_pb.get() == 'Yes':\n",
    "        plb = 1\n",
    "    else:\n",
    "        plb = 0\n",
    "    pmbt = clicked_pm.get()\n",
    "    if pmbt == 'Bank transfer (automatic)':\n",
    "        pmbt = 1\n",
    "        pmcc = 0\n",
    "        pmec = 0\n",
    "    elif pmbt == 'Credit card (automatic)':\n",
    "        pmbt = 0\n",
    "        pmcc = 1\n",
    "        pmec = 0\n",
    "    elif pmbt == 'Electronic check':\n",
    "        pmbt = 0\n",
    "        pmcc = 0\n",
    "        pmec = 1\n",
    "    else:\n",
    "        pmbt = 0\n",
    "        pmcc = 0\n",
    "        pmec = 0  \n",
    "    x_test.append([SeniorCitizen, tenure, MonthlyCharges, TotalCharges, gender, partner, ps,mlnps,mly,isdsl,isfo,osnis,osy,obnis,oby,dpnis,dpy,tsnis,tsy,stnis,sty,smnis,smy,coy,cty,plb,pmbt,pmcc,pmec])\n",
    "    y_predict = model.predict(x_test)\n",
    "    if y_predict[len(y_predict)-1] == 0:\n",
    "        prediction = 'No'\n",
    "    else:\n",
    "        prediction = 'Yes'\n",
    "    Label(window, text='Prediction:', bg='white',fg='black',font='none 12 bold').grid(row=20, column=0, sticky=W)\n",
    "    Label(window, text=prediction, bg='white',fg='black',font='none 12 bold').grid(row=20, column=1, sticky=W)\n",
    "    \n",
    "    \n",
    "    \n",
    "Label(window, text='Gender:', bg='white',fg='black',font='none 12 bold').grid(row=0, column=0, sticky=W)\n",
    "optionGen = dfnew.gender.unique()\n",
    "clicked_gen = StringVar()\n",
    "clicked_gen.set(optionGen[0])\n",
    "gen_drop = OptionMenu(window, clicked_gen,*optionGen).grid(row=0, column=1, sticky=W)\n",
    "\n",
    "Label(window, text='Senior Citizen:', bg='white',fg='black',font='none 12 bold').grid(row=1, column=0, sticky=W)\n",
    "optionSC = dfnew.SeniorCitizen.unique()\n",
    "clicked_sc = StringVar()\n",
    "clicked_sc.set(optionSC[0])\n",
    "gen_sc = OptionMenu(window, clicked_sc,*optionSC).grid(row=1, column=1, sticky=W)\n",
    "\n",
    "Label(window, text='Partner:', bg='white',fg='black',font='none 12 bold').grid(row=2, column=0, sticky=W)\n",
    "optionP = dfnew.Partner.unique()\n",
    "clicked_p = StringVar()\n",
    "clicked_p.set(optionP[0])\n",
    "gen_p = OptionMenu(window, clicked_p,*optionP).grid(row=2, column=1, sticky=W)\n",
    "\n",
    "Label(window, text='Dependents:', bg='white',fg='black',font='none 12 bold').grid(row=3, column=0, sticky=W)\n",
    "optionD = dfnew.Dependents.unique()\n",
    "clicked_d = StringVar()\n",
    "clicked_d.set(optionD[0])\n",
    "gen_d = OptionMenu(window, clicked_d,*optionD).grid(row=3, column=1, sticky=W)\n",
    "\n",
    "Label(window, text='Tenure:', bg='white',fg='black',font='none 12 bold').grid(row=4, column=0, sticky=W)\n",
    "text_t = Entry(window, width =20,bg='white')\n",
    "text_t.grid(row=4, column=1, sticky=W)\n",
    "\n",
    "Label(window, text='PhoneService:', bg='white',fg='black',font='none 12 bold').grid(row=5, column=0, sticky=W)\n",
    "optionPS = dfnew.PhoneService.unique()\n",
    "clicked_ps = StringVar()\n",
    "clicked_ps.set(optionPS[0])\n",
    "gen_ps = OptionMenu(window, clicked_ps,*optionPS).grid(row=5, column=1, sticky=W)\n",
    "\n",
    "Label(window, text='MultipleLines:', bg='white',fg='black',font='none 12 bold').grid(row=6, column=0, sticky=W)\n",
    "optionML = dfnew.MultipleLines.unique()\n",
    "clicked_ml = StringVar()\n",
    "clicked_ml.set(optionML[0])\n",
    "gen_ml = OptionMenu(window, clicked_ml,*optionML).grid(row=6, column=1, sticky=W)\n",
    "\n",
    "\n",
    "Label(window, text='InternetService:', bg='white',fg='black',font='none 12 bold').grid(row=7, column=0, sticky=W)\n",
    "optionIS = dfnew.InternetService.unique()\n",
    "clicked_is = StringVar()\n",
    "clicked_is.set(optionIS[0])\n",
    "gen_is = OptionMenu(window, clicked_is,*optionIS).grid(row=7, column=1, sticky=W)\n",
    "\n",
    "Label(window, text='OnlineSecurity:', bg='white',fg='black',font='none 12 bold').grid(row=8, column=0, sticky=W)\n",
    "optionOS = dfnew.OnlineSecurity.unique()\n",
    "clicked_os = StringVar()\n",
    "clicked_os.set(optionOS[0])\n",
    "gen_os = OptionMenu(window, clicked_os,*optionOS).grid(row=8, column=1, sticky=W)\n",
    "\n",
    "Label(window, text='OnlineBackup:', bg='white',fg='black',font='none 12 bold').grid(row=9, column=0, sticky=W)\n",
    "optionOB = dfnew.OnlineBackup.unique()\n",
    "clicked_ob = StringVar()\n",
    "clicked_ob.set(optionOB[0])\n",
    "gen_ob = OptionMenu(window, clicked_ob,*optionOB).grid(row=9, column=1, sticky=W)\n",
    "\n",
    "Label(window, text='DeviceProtection:', bg='white',fg='black',font='none 12 bold').grid(row=10, column=0, sticky=W)\n",
    "optionDP = dfnew.DeviceProtection.unique()\n",
    "clicked_dp = StringVar()\n",
    "clicked_dp.set(optionDP[0])\n",
    "gen_dp = OptionMenu(window, clicked_dp,*optionDP).grid(row=10, column=1, sticky=W)\n",
    "\n",
    "Label(window, text='TechSupport:', bg='white',fg='black',font='none 12 bold').grid(row=11, column=0, sticky=W)\n",
    "optionTS = dfnew.TechSupport.unique()\n",
    "clicked_ts = StringVar()\n",
    "clicked_ts.set(optionTS[0])\n",
    "gen_ts = OptionMenu(window, clicked_ts,*optionTS).grid(row=11, column=1, sticky=W)\n",
    "\n",
    "\n",
    "Label(window, text='StreamingTV:', bg='white',fg='black',font='none 12 bold').grid(row=12, column=0, sticky=W)\n",
    "optionST = dfnew.StreamingTV.unique()\n",
    "clicked_st = StringVar()\n",
    "clicked_st.set(optionST[0])\n",
    "gen_st = OptionMenu(window, clicked_st,*optionST).grid(row=12, column=1, sticky=W)\n",
    "\n",
    "\n",
    "Label(window, text='StreamingMovies:', bg='white',fg='black',font='none 12 bold').grid(row=13, column=0, sticky=W)\n",
    "optionSM = dfnew.StreamingMovies.unique()\n",
    "clicked_sm = StringVar()\n",
    "clicked_sm.set(optionSM[0])\n",
    "gen_sm = OptionMenu(window, clicked_sm,*optionSM).grid(row=13, column=1, sticky=W)\n",
    "\n",
    "Label(window, text='Contract:', bg='white',fg='black',font='none 12 bold').grid(row=14, column=0, sticky=W)\n",
    "optionC = dfnew.Contract.unique()\n",
    "clicked_c = StringVar()\n",
    "clicked_c.set(optionC[0])\n",
    "gen_c = OptionMenu(window, clicked_c,*optionC).grid(row=14, column=1, sticky=W)\n",
    "\n",
    "Label(window, text='PaperlessBilling:', bg='white',fg='black',font='none 12 bold').grid(row=15, column=0, sticky=W)\n",
    "optionPB = dfnew.PaperlessBilling.unique()\n",
    "clicked_pb = StringVar()\n",
    "clicked_pb.set(optionPB[0])\n",
    "gen_pb = OptionMenu(window, clicked_pb,*optionPB).grid(row=15, column=1, sticky=W)\n",
    "\n",
    "Label(window, text='PaymentMethod:', bg='white',fg='black',font='none 12 bold').grid(row=16, column=0, sticky=W)\n",
    "optionPM = dfnew.PaymentMethod.unique()\n",
    "clicked_pm = StringVar()\n",
    "clicked_pm.set(optionPM[0])\n",
    "gen_pm = OptionMenu(window, clicked_pm,*optionPM).grid(row=16, column=1, sticky=W)\n",
    "\n",
    "Label(window, text='MonthlyCharges:', bg='white',fg='black',font='none 12 bold').grid(row=17, column=0, sticky=W)\n",
    "text_mc = Entry(window, width =20,bg='white')\n",
    "text_mc.grid(row=17, column=1, sticky=W)\n",
    "\n",
    "\n",
    "Label(window, text='TotalCharges:', bg='white',fg='black',font='none 12 bold').grid(row=18, column=0, sticky=W)\n",
    "text_tc = Entry(window, width =20,bg='white')\n",
    "text_tc.grid(row=18, column=1, sticky=W)\n",
    "\n",
    "\n",
    "myButton = Button(window, text='Submit and Predict', command=show).grid(row=19, column=1, sticky=W)\n",
    "\n",
    "window.mainloop()\n"
   ]
  },
  {
   "cell_type": "markdown",
   "id": "conservative-collective",
   "metadata": {},
   "source": [
    "#### From XGBoost, 2 year contract, 1 year contract, InternetService_Fiber optic are the most important predictor variables to predict churn. The results from random forest, AdaBoostClassifier, GradientBoost are very similar and in line to what we had expected from our EDA. "
   ]
  },
  {
   "cell_type": "markdown",
   "id": "prepared-morocco",
   "metadata": {},
   "source": [
    "# Conclusion"
   ]
  },
  {
   "cell_type": "markdown",
   "id": "reliable-possession",
   "metadata": {},
   "source": [
    "#### Comparison of all algorithms "
   ]
  },
  {
   "cell_type": "code",
   "execution_count": 279,
   "id": "reflected-roulette",
   "metadata": {},
   "outputs": [
    {
     "name": "stdout",
     "output_type": "stream",
     "text": [
      "Decision tree classifier accuracy 0.7259570494864612\n",
      "Bagging tree classifier accuracy 0.7712418300653595\n",
      "Random Forest classifier accuracy 0.7665732959850607\n",
      "AdaBoost classifier accuracy 0.7595704948646125\n",
      "Gradient Boost classifier accuracy 0.7675070028011205\n",
      "XGradient Boost classifier accuracy 0.7787114845938375\n"
     ]
    },
    {
     "name": "stderr",
     "output_type": "stream",
     "text": [
      "c:\\python\\lib\\site-packages\\xgboost\\data.py:114: UserWarning: Use subset (sliced data) of np.ndarray is not recommended because it will generate extra copies and increase memory consumption\n",
      "  \"because it will generate extra copies and increase \" +\n"
     ]
    }
   ],
   "source": [
    "print('Decision tree classifier accuracy '+str(dTree.score(x_test, y_test)))\n",
    "print('Bagging tree classifier accuracy '+str(bgcl.score(x_test , y_test)))\n",
    "print('Random Forest classifier accuracy '+str(rfcl.score(x_test, y_test)))\n",
    "print('AdaBoost classifier accuracy '+str(abcl.score(x_test , y_test)))\n",
    "print('Gradient Boost classifier accuracy '+str(gbcl.score(x_test, y_test)))\n",
    "print('XGradient Boost classifier accuracy '+str(model.score(x_test, y_test)))"
   ]
  },
  {
   "cell_type": "markdown",
   "id": "necessary-health",
   "metadata": {},
   "source": [
    "#### Looking at the accuracy of all the Ensemble models, they do not differ alot. But XGBoost gives the best accuracy of 88% followed by Bagging , Gradient Boost, Random forest with 77% accuracy. Decision tree gave least accuracy with 72%."
   ]
  },
  {
   "cell_type": "code",
   "execution_count": 396,
   "id": "congressional-publicity",
   "metadata": {},
   "outputs": [
    {
     "name": "stdout",
     "output_type": "stream",
     "text": [
      "                                              Imp\n",
      "SeniorCitizen                            0.010366\n",
      "tenure                                   0.016437\n",
      "MonthlyCharges                           0.011382\n",
      "TotalCharges                             0.011315\n",
      "gender_Female                            0.009318\n",
      "Partner_Yes                              0.006558\n",
      "Dependents_Yes                           0.007738\n",
      "PhoneService_Yes                         0.017298\n",
      "MultipleLines_No phone service           0.000000\n",
      "MultipleLines_Yes                        0.013363\n",
      "InternetService_DSL                      0.037248\n",
      "InternetService_Fiber optic              0.168281\n",
      "OnlineSecurity_No internet service       0.015728\n",
      "OnlineSecurity_Yes                       0.014623\n",
      "OnlineBackup_No internet service         0.000000\n",
      "OnlineBackup_Yes                         0.010220\n",
      "DeviceProtection_No internet service     0.000000\n",
      "DeviceProtection_Yes                     0.011040\n",
      "TechSupport_No internet service          0.000000\n",
      "TechSupport_Yes                          0.013045\n",
      "StreamingTV_No internet service          0.000000\n",
      "StreamingTV_Yes                          0.014257\n",
      "StreamingMovies_No internet service      0.000000\n",
      "StreamingMovies_Yes                      0.026671\n",
      "Contract_One year                        0.127815\n",
      "Contract_Two year                        0.412205\n",
      "PaperlessBilling_Yes                     0.012139\n",
      "PaymentMethod_Bank transfer (automatic)  0.010864\n",
      "PaymentMethod_Credit card (automatic)    0.009071\n",
      "PaymentMethod_Electronic check           0.013018\n"
     ]
    }
   ],
   "source": [
    "print (pd.DataFrame(model.feature_importances_, columns = [\"Imp\"], index = x_train.columns))"
   ]
  },
  {
   "cell_type": "markdown",
   "id": "disciplinary-spring",
   "metadata": {},
   "source": [
    "#### After selecting XGBoost model, features like InternetService_Fiber optic, InternetService_DSL, Contract_One year, Contract_Two year makes difference in the prediction of Churn."
   ]
  },
  {
   "cell_type": "markdown",
   "id": "democratic-samoa",
   "metadata": {},
   "source": [
    "#### OnlineSecurity, OnlineBackup, DeviceProtection,TechSupport,StreamingTV, StreamingMovies these features depends on whether InternetService is taken or not. Therefore, in these features, there is redundant value for 'No internet service' which is not required."
   ]
  },
  {
   "cell_type": "code",
   "execution_count": null,
   "id": "electric-float",
   "metadata": {},
   "outputs": [],
   "source": []
  }
 ],
 "metadata": {
  "kernelspec": {
   "display_name": "Python 3",
   "language": "python",
   "name": "python3"
  },
  "language_info": {
   "codemirror_mode": {
    "name": "ipython",
    "version": 3
   },
   "file_extension": ".py",
   "mimetype": "text/x-python",
   "name": "python",
   "nbconvert_exporter": "python",
   "pygments_lexer": "ipython3",
   "version": "3.7.8"
  }
 },
 "nbformat": 4,
 "nbformat_minor": 5
}
